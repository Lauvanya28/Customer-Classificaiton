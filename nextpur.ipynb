{
 "cells": [
  {
   "cell_type": "code",
   "execution_count": 2,
   "metadata": {},
   "outputs": [
    {
     "name": "stdout",
     "output_type": "stream",
     "text": [
      "Requirement already satisfied: pip in c:\\users\\lau\\appdata\\local\\programs\\python\\python311\\lib\\site-packages (24.0)\n",
      "Note: you may need to restart the kernel to use updated packages.\n"
     ]
    },
    {
     "name": "stderr",
     "output_type": "stream",
     "text": [
      "WARNING: Retrying (Retry(total=4, connect=None, read=None, redirect=None, status=None)) after connection broken by 'NewConnectionError('<pip._vendor.urllib3.connection.HTTPSConnection object at 0x00000195F2D69A10>: Failed to establish a new connection: [Errno 11001] getaddrinfo failed')': /simple/pip/\n"
     ]
    }
   ],
   "source": [
    " pip install --upgrade pip"
   ]
  },
  {
   "cell_type": "code",
   "execution_count": 3,
   "metadata": {},
   "outputs": [
    {
     "name": "stdout",
     "output_type": "stream",
     "text": [
      "Note: you may need to restart the kernel to use updated packages.\n"
     ]
    },
    {
     "name": "stderr",
     "output_type": "stream",
     "text": [
      "ERROR: Could not find a version that satisfies the requirement multiscorer (from versions: none)\n",
      "ERROR: No matching distribution found for multiscorer\n"
     ]
    }
   ],
   "source": [
    "pip install multiscorer"
   ]
  },
  {
   "cell_type": "code",
   "execution_count": 4,
   "metadata": {},
   "outputs": [],
   "source": [
    "import pandas as pd \n",
    "import numpy as np\n",
    "import matplotlib.pyplot as plt\n",
    "import seaborn as sns\n",
    "\n",
    "import plotly.express as px\n",
    "import plotly.graph_objs as go \n",
    "\n",
    "# avoid displaying warnings\n",
    "import warnings\n",
    "warnings.filterwarnings(\"ignore\")\n",
    "\n",
    "from sklearn.svm import SVC\n",
    "from sklearn.multioutput import MultiOutputClassifier\n",
    "from sklearn.ensemble import GradientBoostingClassifier\n",
    "from sklearn.tree import DecisionTreeClassifier\n",
    "from sklearn.neighbors import KNeighborsClassifier\n",
    "from sklearn.naive_bayes import GaussianNB\n",
    "from sklearn.ensemble import RandomForestClassifier\n",
    "from sklearn.linear_model import LogisticRegression\n",
    "from sklearn.model_selection import KFold, cross_val_score, train_test_split, GridSearchCV, cross_validate\n",
    "from sklearn.metrics import accuracy_score, f1_score, precision_score, recall_score, confusion_matrix\n",
    "from sklearn.cluster import KMeans\n",
    "import xgboost as xgb\n",
    "import time"
   ]
  },
  {
   "cell_type": "code",
   "execution_count": 5,
   "metadata": {},
   "outputs": [],
   "source": [
    "df= pd.read_csv(\"C:\\\\Users\\\\LAU\\\\Desktop\\\\new proj\\\\base_data_new_25_new.csv\")\n"
   ]
  },
  {
   "cell_type": "code",
   "execution_count": 6,
   "metadata": {},
   "outputs": [
    {
     "name": "stdout",
     "output_type": "stream",
     "text": [
      "<class 'pandas.core.frame.DataFrame'>\n",
      "RangeIndex: 406829 entries, 0 to 406828\n",
      "Data columns (total 16 columns):\n",
      " #   Column            Non-Null Count   Dtype  \n",
      "---  ------            --------------   -----  \n",
      " 0   InvoiceNo         406829 non-null  int64  \n",
      " 1   Description       406829 non-null  object \n",
      " 2   Quantity          406829 non-null  int64  \n",
      " 3   InvoiceDate       406829 non-null  object \n",
      " 4   UnitPrice         406829 non-null  float64\n",
      " 5   CustomerID        406829 non-null  int64  \n",
      " 6   Country           406829 non-null  object \n",
      " 7   date              406829 non-null  object \n",
      " 8   Recency           406829 non-null  int64  \n",
      " 9   Frequency         406829 non-null  int64  \n",
      " 10  Total_cost        406829 non-null  float64\n",
      " 11  Monetary          406829 non-null  int64  \n",
      " 12  receny_score      406829 non-null  int64  \n",
      " 13  frequency_score   406829 non-null  int64  \n",
      " 14  monetary_score    406829 non-null  int64  \n",
      " 15  customer_segment  406829 non-null  int64  \n",
      "dtypes: float64(2), int64(10), object(4)\n",
      "memory usage: 49.7+ MB\n"
     ]
    }
   ],
   "source": [
    "df.info()\n"
   ]
  },
  {
   "cell_type": "code",
   "execution_count": 7,
   "metadata": {},
   "outputs": [
    {
     "data": {
      "text/plain": [
       "InvoiceNo           0\n",
       "Description         0\n",
       "Quantity            0\n",
       "InvoiceDate         0\n",
       "UnitPrice           0\n",
       "CustomerID          0\n",
       "Country             0\n",
       "date                0\n",
       "Recency             0\n",
       "Frequency           0\n",
       "Total_cost          0\n",
       "Monetary            0\n",
       "receny_score        0\n",
       "frequency_score     0\n",
       "monetary_score      0\n",
       "customer_segment    0\n",
       "dtype: int64"
      ]
     },
     "execution_count": 7,
     "metadata": {},
     "output_type": "execute_result"
    }
   ],
   "source": [
    "df.isnull().sum()\n"
   ]
  },
  {
   "cell_type": "code",
   "execution_count": 8,
   "metadata": {},
   "outputs": [],
   "source": [
    "df.InvoiceDate = pd.to_datetime(df.InvoiceDate,format='mixed')\n"
   ]
  },
  {
   "cell_type": "code",
   "execution_count": 9,
   "metadata": {},
   "outputs": [
    {
     "data": {
      "text/html": [
       "<div>\n",
       "<style scoped>\n",
       "    .dataframe tbody tr th:only-of-type {\n",
       "        vertical-align: middle;\n",
       "    }\n",
       "\n",
       "    .dataframe tbody tr th {\n",
       "        vertical-align: top;\n",
       "    }\n",
       "\n",
       "    .dataframe thead th {\n",
       "        text-align: right;\n",
       "    }\n",
       "</style>\n",
       "<table border=\"1\" class=\"dataframe\">\n",
       "  <thead>\n",
       "    <tr style=\"text-align: right;\">\n",
       "      <th></th>\n",
       "      <th>InvoiceDate</th>\n",
       "    </tr>\n",
       "  </thead>\n",
       "  <tbody>\n",
       "    <tr>\n",
       "      <th>count</th>\n",
       "      <td>406829</td>\n",
       "    </tr>\n",
       "    <tr>\n",
       "      <th>mean</th>\n",
       "      <td>2011-07-10 16:30:57.879207424</td>\n",
       "    </tr>\n",
       "    <tr>\n",
       "      <th>min</th>\n",
       "      <td>2010-12-01 08:26:00</td>\n",
       "    </tr>\n",
       "    <tr>\n",
       "      <th>25%</th>\n",
       "      <td>2011-04-06 15:02:00</td>\n",
       "    </tr>\n",
       "    <tr>\n",
       "      <th>50%</th>\n",
       "      <td>2011-07-31 11:48:00</td>\n",
       "    </tr>\n",
       "    <tr>\n",
       "      <th>75%</th>\n",
       "      <td>2011-10-20 13:06:00</td>\n",
       "    </tr>\n",
       "    <tr>\n",
       "      <th>max</th>\n",
       "      <td>2011-12-09 12:50:00</td>\n",
       "    </tr>\n",
       "  </tbody>\n",
       "</table>\n",
       "</div>"
      ],
      "text/plain": [
       "                         InvoiceDate\n",
       "count                         406829\n",
       "mean   2011-07-10 16:30:57.879207424\n",
       "min              2010-12-01 08:26:00\n",
       "25%              2011-04-06 15:02:00\n",
       "50%              2011-07-31 11:48:00\n",
       "75%              2011-10-20 13:06:00\n",
       "max              2011-12-09 12:50:00"
      ]
     },
     "execution_count": 9,
     "metadata": {},
     "output_type": "execute_result"
    }
   ],
   "source": [
    "pd.DataFrame(df.InvoiceDate.describe())\n"
   ]
  },
  {
   "cell_type": "code",
   "execution_count": 10,
   "metadata": {},
   "outputs": [
    {
     "data": {
      "text/html": [
       "<div>\n",
       "<style scoped>\n",
       "    .dataframe tbody tr th:only-of-type {\n",
       "        vertical-align: middle;\n",
       "    }\n",
       "\n",
       "    .dataframe tbody tr th {\n",
       "        vertical-align: top;\n",
       "    }\n",
       "\n",
       "    .dataframe thead th {\n",
       "        text-align: right;\n",
       "    }\n",
       "</style>\n",
       "<table border=\"1\" class=\"dataframe\">\n",
       "  <thead>\n",
       "    <tr style=\"text-align: right;\">\n",
       "      <th></th>\n",
       "      <th>InvoiceNo</th>\n",
       "      <th>Description</th>\n",
       "      <th>Quantity</th>\n",
       "      <th>InvoiceDate</th>\n",
       "      <th>UnitPrice</th>\n",
       "      <th>CustomerID</th>\n",
       "      <th>Country</th>\n",
       "      <th>date</th>\n",
       "      <th>Recency</th>\n",
       "      <th>Frequency</th>\n",
       "      <th>Total_cost</th>\n",
       "      <th>Monetary</th>\n",
       "      <th>receny_score</th>\n",
       "      <th>frequency_score</th>\n",
       "      <th>monetary_score</th>\n",
       "      <th>customer_segment</th>\n",
       "    </tr>\n",
       "  </thead>\n",
       "  <tbody>\n",
       "    <tr>\n",
       "      <th>0</th>\n",
       "      <td>536365</td>\n",
       "      <td>WHITE HANGING HEART T-LIGHT HOLDER</td>\n",
       "      <td>6</td>\n",
       "      <td>2010-12-01 08:26:00</td>\n",
       "      <td>2.55</td>\n",
       "      <td>17850</td>\n",
       "      <td>United Kingdom</td>\n",
       "      <td>2010-12-01</td>\n",
       "      <td>325</td>\n",
       "      <td>35</td>\n",
       "      <td>15.30</td>\n",
       "      <td>5289</td>\n",
       "      <td>5</td>\n",
       "      <td>5</td>\n",
       "      <td>4</td>\n",
       "      <td>2</td>\n",
       "    </tr>\n",
       "    <tr>\n",
       "      <th>1</th>\n",
       "      <td>536365</td>\n",
       "      <td>WHITE METAL LANTERN</td>\n",
       "      <td>6</td>\n",
       "      <td>2010-12-01 08:26:00</td>\n",
       "      <td>3.39</td>\n",
       "      <td>17850</td>\n",
       "      <td>United Kingdom</td>\n",
       "      <td>2010-12-01</td>\n",
       "      <td>2</td>\n",
       "      <td>35</td>\n",
       "      <td>20.34</td>\n",
       "      <td>5289</td>\n",
       "      <td>1</td>\n",
       "      <td>5</td>\n",
       "      <td>4</td>\n",
       "      <td>5</td>\n",
       "    </tr>\n",
       "    <tr>\n",
       "      <th>2</th>\n",
       "      <td>536365</td>\n",
       "      <td>CREAM CUPID HEARTS COAT HANGER</td>\n",
       "      <td>8</td>\n",
       "      <td>2010-12-01 08:26:00</td>\n",
       "      <td>2.75</td>\n",
       "      <td>17850</td>\n",
       "      <td>United Kingdom</td>\n",
       "      <td>2010-12-01</td>\n",
       "      <td>75</td>\n",
       "      <td>35</td>\n",
       "      <td>22.00</td>\n",
       "      <td>5289</td>\n",
       "      <td>1</td>\n",
       "      <td>5</td>\n",
       "      <td>4</td>\n",
       "      <td>5</td>\n",
       "    </tr>\n",
       "    <tr>\n",
       "      <th>3</th>\n",
       "      <td>536365</td>\n",
       "      <td>KNITTED UNION FLAG HOT WATER BOTTLE</td>\n",
       "      <td>6</td>\n",
       "      <td>2010-12-01 08:26:00</td>\n",
       "      <td>3.39</td>\n",
       "      <td>17850</td>\n",
       "      <td>United Kingdom</td>\n",
       "      <td>2010-12-01</td>\n",
       "      <td>18</td>\n",
       "      <td>35</td>\n",
       "      <td>20.34</td>\n",
       "      <td>5289</td>\n",
       "      <td>1</td>\n",
       "      <td>5</td>\n",
       "      <td>4</td>\n",
       "      <td>5</td>\n",
       "    </tr>\n",
       "    <tr>\n",
       "      <th>4</th>\n",
       "      <td>536365</td>\n",
       "      <td>RED WOOLLY HOTTIE WHITE HEART.</td>\n",
       "      <td>6</td>\n",
       "      <td>2010-12-01 08:26:00</td>\n",
       "      <td>3.39</td>\n",
       "      <td>17850</td>\n",
       "      <td>United Kingdom</td>\n",
       "      <td>2010-12-01</td>\n",
       "      <td>310</td>\n",
       "      <td>35</td>\n",
       "      <td>20.34</td>\n",
       "      <td>5289</td>\n",
       "      <td>5</td>\n",
       "      <td>5</td>\n",
       "      <td>4</td>\n",
       "      <td>2</td>\n",
       "    </tr>\n",
       "  </tbody>\n",
       "</table>\n",
       "</div>"
      ],
      "text/plain": [
       "   InvoiceNo                          Description  Quantity  \\\n",
       "0     536365   WHITE HANGING HEART T-LIGHT HOLDER         6   \n",
       "1     536365                  WHITE METAL LANTERN         6   \n",
       "2     536365       CREAM CUPID HEARTS COAT HANGER         8   \n",
       "3     536365  KNITTED UNION FLAG HOT WATER BOTTLE         6   \n",
       "4     536365       RED WOOLLY HOTTIE WHITE HEART.         6   \n",
       "\n",
       "          InvoiceDate  UnitPrice  CustomerID         Country        date  \\\n",
       "0 2010-12-01 08:26:00       2.55       17850  United Kingdom  2010-12-01   \n",
       "1 2010-12-01 08:26:00       3.39       17850  United Kingdom  2010-12-01   \n",
       "2 2010-12-01 08:26:00       2.75       17850  United Kingdom  2010-12-01   \n",
       "3 2010-12-01 08:26:00       3.39       17850  United Kingdom  2010-12-01   \n",
       "4 2010-12-01 08:26:00       3.39       17850  United Kingdom  2010-12-01   \n",
       "\n",
       "   Recency  Frequency  Total_cost  Monetary  receny_score  frequency_score  \\\n",
       "0      325         35       15.30      5289             5                5   \n",
       "1        2         35       20.34      5289             1                5   \n",
       "2       75         35       22.00      5289             1                5   \n",
       "3       18         35       20.34      5289             1                5   \n",
       "4      310         35       20.34      5289             5                5   \n",
       "\n",
       "   monetary_score  customer_segment  \n",
       "0               4                 2  \n",
       "1               4                 5  \n",
       "2               4                 5  \n",
       "3               4                 5  \n",
       "4               4                 2  "
      ]
     },
     "execution_count": 10,
     "metadata": {},
     "output_type": "execute_result"
    }
   ],
   "source": [
    "df.head()\n"
   ]
  },
  {
   "cell_type": "code",
   "execution_count": 11,
   "metadata": {},
   "outputs": [],
   "source": [
    "ctm = df[(df.InvoiceDate < pd.Timestamp(2011,9,1)) & \n",
    "      (df.InvoiceDate >= pd.Timestamp(2010,1,1))].reset_index(drop=True)\n"
   ]
  },
  {
   "cell_type": "code",
   "execution_count": 12,
   "metadata": {},
   "outputs": [],
   "source": [
    "next_qua = df[(df.InvoiceDate < pd.Timestamp(2011,12,1)) & \n",
    "      (df.InvoiceDate >= pd.Timestamp(2011,9,1))].reset_index(drop=True)"
   ]
  },
  {
   "cell_type": "code",
   "execution_count": 13,
   "metadata": {},
   "outputs": [
    {
     "data": {
      "text/html": [
       "<div>\n",
       "<style scoped>\n",
       "    .dataframe tbody tr th:only-of-type {\n",
       "        vertical-align: middle;\n",
       "    }\n",
       "\n",
       "    .dataframe tbody tr th {\n",
       "        vertical-align: top;\n",
       "    }\n",
       "\n",
       "    .dataframe thead th {\n",
       "        text-align: right;\n",
       "    }\n",
       "</style>\n",
       "<table border=\"1\" class=\"dataframe\">\n",
       "  <thead>\n",
       "    <tr style=\"text-align: right;\">\n",
       "      <th></th>\n",
       "      <th>CustomerID</th>\n",
       "    </tr>\n",
       "  </thead>\n",
       "  <tbody>\n",
       "    <tr>\n",
       "      <th>0</th>\n",
       "      <td>17850</td>\n",
       "    </tr>\n",
       "    <tr>\n",
       "      <th>1</th>\n",
       "      <td>13047</td>\n",
       "    </tr>\n",
       "    <tr>\n",
       "      <th>2</th>\n",
       "      <td>12583</td>\n",
       "    </tr>\n",
       "    <tr>\n",
       "      <th>3</th>\n",
       "      <td>13748</td>\n",
       "    </tr>\n",
       "    <tr>\n",
       "      <th>4</th>\n",
       "      <td>15100</td>\n",
       "    </tr>\n",
       "  </tbody>\n",
       "</table>\n",
       "</div>"
      ],
      "text/plain": [
       "   CustomerID\n",
       "0       17850\n",
       "1       13047\n",
       "2       12583\n",
       "3       13748\n",
       "4       15100"
      ]
     },
     "execution_count": 13,
     "metadata": {},
     "output_type": "execute_result"
    }
   ],
   "source": [
    "ctm = pd.DataFrame(ctm['CustomerID'].unique())\n",
    "\n",
    "# Rename the column to CustomerID.\n",
    "ctm.columns = ['CustomerID']\n",
    "\n",
    "ctm.head()"
   ]
  },
  {
   "cell_type": "code",
   "execution_count": 14,
   "metadata": {},
   "outputs": [
    {
     "name": "stdout",
     "output_type": "stream",
     "text": [
      "Index(['CustomerID'], dtype='object')\n"
     ]
    }
   ],
   "source": [
    "print(ctm.columns)\n"
   ]
  },
  {
   "cell_type": "code",
   "execution_count": 15,
   "metadata": {},
   "outputs": [
    {
     "data": {
      "text/html": [
       "<div>\n",
       "<style scoped>\n",
       "    .dataframe tbody tr th:only-of-type {\n",
       "        vertical-align: middle;\n",
       "    }\n",
       "\n",
       "    .dataframe tbody tr th {\n",
       "        vertical-align: top;\n",
       "    }\n",
       "\n",
       "    .dataframe thead th {\n",
       "        text-align: right;\n",
       "    }\n",
       "</style>\n",
       "<table border=\"1\" class=\"dataframe\">\n",
       "  <thead>\n",
       "    <tr style=\"text-align: right;\">\n",
       "      <th></th>\n",
       "      <th>CustomerID</th>\n",
       "      <th>MinPurchaseDate</th>\n",
       "    </tr>\n",
       "  </thead>\n",
       "  <tbody>\n",
       "    <tr>\n",
       "      <th>0</th>\n",
       "      <td>12347</td>\n",
       "      <td>2011-10-31 12:25:00</td>\n",
       "    </tr>\n",
       "    <tr>\n",
       "      <th>1</th>\n",
       "      <td>12348</td>\n",
       "      <td>2011-09-25 13:13:00</td>\n",
       "    </tr>\n",
       "    <tr>\n",
       "      <th>2</th>\n",
       "      <td>12349</td>\n",
       "      <td>2011-11-21 09:51:00</td>\n",
       "    </tr>\n",
       "    <tr>\n",
       "      <th>3</th>\n",
       "      <td>12352</td>\n",
       "      <td>2011-09-20 14:34:00</td>\n",
       "    </tr>\n",
       "    <tr>\n",
       "      <th>4</th>\n",
       "      <td>12356</td>\n",
       "      <td>2011-11-17 08:40:00</td>\n",
       "    </tr>\n",
       "  </tbody>\n",
       "</table>\n",
       "</div>"
      ],
      "text/plain": [
       "   CustomerID     MinPurchaseDate\n",
       "0       12347 2011-10-31 12:25:00\n",
       "1       12348 2011-09-25 13:13:00\n",
       "2       12349 2011-11-21 09:51:00\n",
       "3       12352 2011-09-20 14:34:00\n",
       "4       12356 2011-11-17 08:40:00"
      ]
     },
     "execution_count": 15,
     "metadata": {},
     "output_type": "execute_result"
    }
   ],
   "source": [
    "ctm_1st_purchase_in_next_quarter = next_qua.groupby('CustomerID').InvoiceDate.min().reset_index()\n",
    "ctm_1st_purchase_in_next_quarter.columns = ['CustomerID','MinPurchaseDate']\n",
    "ctm_1st_purchase_in_next_quarter.head()"
   ]
  },
  {
   "cell_type": "code",
   "execution_count": 16,
   "metadata": {},
   "outputs": [
    {
     "data": {
      "text/html": [
       "<div>\n",
       "<style scoped>\n",
       "    .dataframe tbody tr th:only-of-type {\n",
       "        vertical-align: middle;\n",
       "    }\n",
       "\n",
       "    .dataframe tbody tr th {\n",
       "        vertical-align: top;\n",
       "    }\n",
       "\n",
       "    .dataframe thead th {\n",
       "        text-align: right;\n",
       "    }\n",
       "</style>\n",
       "<table border=\"1\" class=\"dataframe\">\n",
       "  <thead>\n",
       "    <tr style=\"text-align: right;\">\n",
       "      <th></th>\n",
       "      <th>CustomerID</th>\n",
       "      <th>MaxPurchaseDate</th>\n",
       "    </tr>\n",
       "  </thead>\n",
       "  <tbody>\n",
       "    <tr>\n",
       "      <th>0</th>\n",
       "      <td>12346</td>\n",
       "      <td>2011-01-18 10:17:00</td>\n",
       "    </tr>\n",
       "    <tr>\n",
       "      <th>1</th>\n",
       "      <td>12347</td>\n",
       "      <td>2011-12-07 15:52:00</td>\n",
       "    </tr>\n",
       "    <tr>\n",
       "      <th>2</th>\n",
       "      <td>12348</td>\n",
       "      <td>2011-09-25 13:13:00</td>\n",
       "    </tr>\n",
       "    <tr>\n",
       "      <th>3</th>\n",
       "      <td>12349</td>\n",
       "      <td>2011-11-21 09:51:00</td>\n",
       "    </tr>\n",
       "    <tr>\n",
       "      <th>4</th>\n",
       "      <td>12350</td>\n",
       "      <td>2011-02-02 16:01:00</td>\n",
       "    </tr>\n",
       "  </tbody>\n",
       "</table>\n",
       "</div>"
      ],
      "text/plain": [
       "   CustomerID     MaxPurchaseDate\n",
       "0       12346 2011-01-18 10:17:00\n",
       "1       12347 2011-12-07 15:52:00\n",
       "2       12348 2011-09-25 13:13:00\n",
       "3       12349 2011-11-21 09:51:00\n",
       "4       12350 2011-02-02 16:01:00"
      ]
     },
     "execution_count": 16,
     "metadata": {},
     "output_type": "execute_result"
    }
   ],
   "source": [
    "ctm_last_purchase_bhvr_dt = df.groupby('CustomerID')['InvoiceDate'].max().reset_index()\n",
    "ctm_last_purchase_bhvr_dt.columns = ['CustomerID','MaxPurchaseDate']\n",
    "ctm_last_purchase_bhvr_dt.head()"
   ]
  },
  {
   "cell_type": "code",
   "execution_count": 17,
   "metadata": {},
   "outputs": [
    {
     "data": {
      "text/html": [
       "<div>\n",
       "<style scoped>\n",
       "    .dataframe tbody tr th:only-of-type {\n",
       "        vertical-align: middle;\n",
       "    }\n",
       "\n",
       "    .dataframe tbody tr th {\n",
       "        vertical-align: top;\n",
       "    }\n",
       "\n",
       "    .dataframe thead th {\n",
       "        text-align: right;\n",
       "    }\n",
       "</style>\n",
       "<table border=\"1\" class=\"dataframe\">\n",
       "  <thead>\n",
       "    <tr style=\"text-align: right;\">\n",
       "      <th></th>\n",
       "      <th>CustomerID</th>\n",
       "      <th>MaxPurchaseDate</th>\n",
       "      <th>MinPurchaseDate</th>\n",
       "    </tr>\n",
       "  </thead>\n",
       "  <tbody>\n",
       "    <tr>\n",
       "      <th>0</th>\n",
       "      <td>12346</td>\n",
       "      <td>2011-01-18 10:17:00</td>\n",
       "      <td>NaT</td>\n",
       "    </tr>\n",
       "    <tr>\n",
       "      <th>1</th>\n",
       "      <td>12347</td>\n",
       "      <td>2011-12-07 15:52:00</td>\n",
       "      <td>2011-10-31 12:25:00</td>\n",
       "    </tr>\n",
       "    <tr>\n",
       "      <th>2</th>\n",
       "      <td>12348</td>\n",
       "      <td>2011-09-25 13:13:00</td>\n",
       "      <td>2011-09-25 13:13:00</td>\n",
       "    </tr>\n",
       "    <tr>\n",
       "      <th>3</th>\n",
       "      <td>12349</td>\n",
       "      <td>2011-11-21 09:51:00</td>\n",
       "      <td>2011-11-21 09:51:00</td>\n",
       "    </tr>\n",
       "    <tr>\n",
       "      <th>4</th>\n",
       "      <td>12350</td>\n",
       "      <td>2011-02-02 16:01:00</td>\n",
       "      <td>NaT</td>\n",
       "    </tr>\n",
       "  </tbody>\n",
       "</table>\n",
       "</div>"
      ],
      "text/plain": [
       "   CustomerID     MaxPurchaseDate     MinPurchaseDate\n",
       "0       12346 2011-01-18 10:17:00                 NaT\n",
       "1       12347 2011-12-07 15:52:00 2011-10-31 12:25:00\n",
       "2       12348 2011-09-25 13:13:00 2011-09-25 13:13:00\n",
       "3       12349 2011-11-21 09:51:00 2011-11-21 09:51:00\n",
       "4       12350 2011-02-02 16:01:00                 NaT"
      ]
     },
     "execution_count": 17,
     "metadata": {},
     "output_type": "execute_result"
    }
   ],
   "source": [
    "ctm_purchase_dates = pd.merge(ctm_last_purchase_bhvr_dt, ctm_1st_purchase_in_next_quarter, on='CustomerID', \n",
    "                              how='left')\n",
    "ctm_purchase_dates.head()"
   ]
  },
  {
   "cell_type": "code",
   "execution_count": 18,
   "metadata": {},
   "outputs": [
    {
     "data": {
      "text/html": [
       "<div>\n",
       "<style scoped>\n",
       "    .dataframe tbody tr th:only-of-type {\n",
       "        vertical-align: middle;\n",
       "    }\n",
       "\n",
       "    .dataframe tbody tr th {\n",
       "        vertical-align: top;\n",
       "    }\n",
       "\n",
       "    .dataframe thead th {\n",
       "        text-align: right;\n",
       "    }\n",
       "</style>\n",
       "<table border=\"1\" class=\"dataframe\">\n",
       "  <thead>\n",
       "    <tr style=\"text-align: right;\">\n",
       "      <th></th>\n",
       "      <th>CustomerID</th>\n",
       "      <th>MaxPurchaseDate</th>\n",
       "      <th>MinPurchaseDate</th>\n",
       "      <th>NextPurchaseDay</th>\n",
       "    </tr>\n",
       "  </thead>\n",
       "  <tbody>\n",
       "    <tr>\n",
       "      <th>0</th>\n",
       "      <td>12346</td>\n",
       "      <td>2011-01-18 10:17:00</td>\n",
       "      <td>NaT</td>\n",
       "      <td>NaN</td>\n",
       "    </tr>\n",
       "    <tr>\n",
       "      <th>1</th>\n",
       "      <td>12347</td>\n",
       "      <td>2011-12-07 15:52:00</td>\n",
       "      <td>2011-10-31 12:25:00</td>\n",
       "      <td>37.0</td>\n",
       "    </tr>\n",
       "    <tr>\n",
       "      <th>2</th>\n",
       "      <td>12348</td>\n",
       "      <td>2011-09-25 13:13:00</td>\n",
       "      <td>2011-09-25 13:13:00</td>\n",
       "      <td>0.0</td>\n",
       "    </tr>\n",
       "    <tr>\n",
       "      <th>3</th>\n",
       "      <td>12349</td>\n",
       "      <td>2011-11-21 09:51:00</td>\n",
       "      <td>2011-11-21 09:51:00</td>\n",
       "      <td>0.0</td>\n",
       "    </tr>\n",
       "    <tr>\n",
       "      <th>4</th>\n",
       "      <td>12350</td>\n",
       "      <td>2011-02-02 16:01:00</td>\n",
       "      <td>NaT</td>\n",
       "      <td>NaN</td>\n",
       "    </tr>\n",
       "  </tbody>\n",
       "</table>\n",
       "</div>"
      ],
      "text/plain": [
       "   CustomerID     MaxPurchaseDate     MinPurchaseDate  NextPurchaseDay\n",
       "0       12346 2011-01-18 10:17:00                 NaT              NaN\n",
       "1       12347 2011-12-07 15:52:00 2011-10-31 12:25:00             37.0\n",
       "2       12348 2011-09-25 13:13:00 2011-09-25 13:13:00              0.0\n",
       "3       12349 2011-11-21 09:51:00 2011-11-21 09:51:00              0.0\n",
       "4       12350 2011-02-02 16:01:00                 NaT              NaN"
      ]
     },
     "execution_count": 18,
     "metadata": {},
     "output_type": "execute_result"
    }
   ],
   "source": [
    "ctm_purchase_dates['NextPurchaseDay'] = abs(ctm_purchase_dates['MinPurchaseDate'] - ctm_purchase_dates['MaxPurchaseDate']).dt.days\n",
    "\n",
    "ctm_purchase_dates.head()"
   ]
  },
  {
   "cell_type": "code",
   "execution_count": 19,
   "metadata": {},
   "outputs": [
    {
     "data": {
      "text/html": [
       "<div>\n",
       "<style scoped>\n",
       "    .dataframe tbody tr th:only-of-type {\n",
       "        vertical-align: middle;\n",
       "    }\n",
       "\n",
       "    .dataframe tbody tr th {\n",
       "        vertical-align: top;\n",
       "    }\n",
       "\n",
       "    .dataframe thead th {\n",
       "        text-align: right;\n",
       "    }\n",
       "</style>\n",
       "<table border=\"1\" class=\"dataframe\">\n",
       "  <thead>\n",
       "    <tr style=\"text-align: right;\">\n",
       "      <th></th>\n",
       "      <th>CustomerID</th>\n",
       "      <th>NextPurchaseDay</th>\n",
       "    </tr>\n",
       "  </thead>\n",
       "  <tbody>\n",
       "    <tr>\n",
       "      <th>0</th>\n",
       "      <td>17850</td>\n",
       "      <td>NaN</td>\n",
       "    </tr>\n",
       "    <tr>\n",
       "      <th>1</th>\n",
       "      <td>13047</td>\n",
       "      <td>25.0</td>\n",
       "    </tr>\n",
       "    <tr>\n",
       "      <th>2</th>\n",
       "      <td>12583</td>\n",
       "      <td>76.0</td>\n",
       "    </tr>\n",
       "    <tr>\n",
       "      <th>3</th>\n",
       "      <td>13748</td>\n",
       "      <td>0.0</td>\n",
       "    </tr>\n",
       "    <tr>\n",
       "      <th>4</th>\n",
       "      <td>15100</td>\n",
       "      <td>NaN</td>\n",
       "    </tr>\n",
       "  </tbody>\n",
       "</table>\n",
       "</div>"
      ],
      "text/plain": [
       "   CustomerID  NextPurchaseDay\n",
       "0       17850              NaN\n",
       "1       13047             25.0\n",
       "2       12583             76.0\n",
       "3       13748              0.0\n",
       "4       15100              NaN"
      ]
     },
     "execution_count": 19,
     "metadata": {},
     "output_type": "execute_result"
    }
   ],
   "source": [
    "ctm_dt = pd.merge(ctm, ctm_purchase_dates[['CustomerID','NextPurchaseDay']], on='CustomerID', how='left')\n",
    "ctm_dt.head()"
   ]
  },
  {
   "cell_type": "code",
   "execution_count": 20,
   "metadata": {},
   "outputs": [
    {
     "data": {
      "text/html": [
       "<div>\n",
       "<style scoped>\n",
       "    .dataframe tbody tr th:only-of-type {\n",
       "        vertical-align: middle;\n",
       "    }\n",
       "\n",
       "    .dataframe tbody tr th {\n",
       "        vertical-align: top;\n",
       "    }\n",
       "\n",
       "    .dataframe thead th {\n",
       "        text-align: right;\n",
       "    }\n",
       "</style>\n",
       "<table border=\"1\" class=\"dataframe\">\n",
       "  <thead>\n",
       "    <tr style=\"text-align: right;\">\n",
       "      <th></th>\n",
       "      <th>CustomerID</th>\n",
       "      <th>NextPurchaseDay</th>\n",
       "    </tr>\n",
       "  </thead>\n",
       "  <tbody>\n",
       "    <tr>\n",
       "      <th>0</th>\n",
       "      <td>17850</td>\n",
       "      <td>9999.0</td>\n",
       "    </tr>\n",
       "    <tr>\n",
       "      <th>1</th>\n",
       "      <td>13047</td>\n",
       "      <td>25.0</td>\n",
       "    </tr>\n",
       "    <tr>\n",
       "      <th>2</th>\n",
       "      <td>12583</td>\n",
       "      <td>76.0</td>\n",
       "    </tr>\n",
       "    <tr>\n",
       "      <th>3</th>\n",
       "      <td>13748</td>\n",
       "      <td>0.0</td>\n",
       "    </tr>\n",
       "    <tr>\n",
       "      <th>4</th>\n",
       "      <td>15100</td>\n",
       "      <td>9999.0</td>\n",
       "    </tr>\n",
       "  </tbody>\n",
       "</table>\n",
       "</div>"
      ],
      "text/plain": [
       "   CustomerID  NextPurchaseDay\n",
       "0       17850           9999.0\n",
       "1       13047             25.0\n",
       "2       12583             76.0\n",
       "3       13748              0.0\n",
       "4       15100           9999.0"
      ]
     },
     "execution_count": 20,
     "metadata": {},
     "output_type": "execute_result"
    }
   ],
   "source": [
    "ctm_dt = ctm_dt.fillna(9999)\n",
    "ctm_dt.head()"
   ]
  },
  {
   "cell_type": "code",
   "execution_count": 21,
   "metadata": {},
   "outputs": [
    {
     "data": {
      "text/html": [
       "<div>\n",
       "<style scoped>\n",
       "    .dataframe tbody tr th:only-of-type {\n",
       "        vertical-align: middle;\n",
       "    }\n",
       "\n",
       "    .dataframe tbody tr th {\n",
       "        vertical-align: top;\n",
       "    }\n",
       "\n",
       "    .dataframe thead th {\n",
       "        text-align: right;\n",
       "    }\n",
       "</style>\n",
       "<table border=\"1\" class=\"dataframe\">\n",
       "  <thead>\n",
       "    <tr style=\"text-align: right;\">\n",
       "      <th></th>\n",
       "      <th>CustomerID</th>\n",
       "      <th>MaxPurchaseDate</th>\n",
       "    </tr>\n",
       "  </thead>\n",
       "  <tbody>\n",
       "    <tr>\n",
       "      <th>0</th>\n",
       "      <td>12346</td>\n",
       "      <td>2011-01-18 10:17:00</td>\n",
       "    </tr>\n",
       "    <tr>\n",
       "      <th>1</th>\n",
       "      <td>12347</td>\n",
       "      <td>2011-12-07 15:52:00</td>\n",
       "    </tr>\n",
       "    <tr>\n",
       "      <th>2</th>\n",
       "      <td>12348</td>\n",
       "      <td>2011-09-25 13:13:00</td>\n",
       "    </tr>\n",
       "    <tr>\n",
       "      <th>3</th>\n",
       "      <td>12349</td>\n",
       "      <td>2011-11-21 09:51:00</td>\n",
       "    </tr>\n",
       "    <tr>\n",
       "      <th>4</th>\n",
       "      <td>12350</td>\n",
       "      <td>2011-02-02 16:01:00</td>\n",
       "    </tr>\n",
       "  </tbody>\n",
       "</table>\n",
       "</div>"
      ],
      "text/plain": [
       "   CustomerID     MaxPurchaseDate\n",
       "0       12346 2011-01-18 10:17:00\n",
       "1       12347 2011-12-07 15:52:00\n",
       "2       12348 2011-09-25 13:13:00\n",
       "3       12349 2011-11-21 09:51:00\n",
       "4       12350 2011-02-02 16:01:00"
      ]
     },
     "execution_count": 21,
     "metadata": {},
     "output_type": "execute_result"
    }
   ],
   "source": [
    "ctm_max_purchase = df.groupby('CustomerID').InvoiceDate.max().reset_index()\n",
    "ctm_max_purchase.columns = ['CustomerID','MaxPurchaseDate']\n",
    "ctm_max_purchase.head()"
   ]
  },
  {
   "cell_type": "code",
   "execution_count": 22,
   "metadata": {},
   "outputs": [
    {
     "data": {
      "text/html": [
       "<div>\n",
       "<style scoped>\n",
       "    .dataframe tbody tr th:only-of-type {\n",
       "        vertical-align: middle;\n",
       "    }\n",
       "\n",
       "    .dataframe tbody tr th {\n",
       "        vertical-align: top;\n",
       "    }\n",
       "\n",
       "    .dataframe thead th {\n",
       "        text-align: right;\n",
       "    }\n",
       "</style>\n",
       "<table border=\"1\" class=\"dataframe\">\n",
       "  <thead>\n",
       "    <tr style=\"text-align: right;\">\n",
       "      <th></th>\n",
       "      <th>CustomerID</th>\n",
       "      <th>NextPurchaseDay</th>\n",
       "      <th>Recency</th>\n",
       "    </tr>\n",
       "  </thead>\n",
       "  <tbody>\n",
       "    <tr>\n",
       "      <th>0</th>\n",
       "      <td>17850</td>\n",
       "      <td>9999.0</td>\n",
       "      <td>301</td>\n",
       "    </tr>\n",
       "    <tr>\n",
       "      <th>1</th>\n",
       "      <td>13047</td>\n",
       "      <td>25.0</td>\n",
       "      <td>31</td>\n",
       "    </tr>\n",
       "    <tr>\n",
       "      <th>2</th>\n",
       "      <td>12583</td>\n",
       "      <td>76.0</td>\n",
       "      <td>2</td>\n",
       "    </tr>\n",
       "    <tr>\n",
       "      <th>3</th>\n",
       "      <td>13748</td>\n",
       "      <td>0.0</td>\n",
       "      <td>95</td>\n",
       "    </tr>\n",
       "    <tr>\n",
       "      <th>4</th>\n",
       "      <td>15100</td>\n",
       "      <td>9999.0</td>\n",
       "      <td>329</td>\n",
       "    </tr>\n",
       "  </tbody>\n",
       "</table>\n",
       "</div>"
      ],
      "text/plain": [
       "   CustomerID  NextPurchaseDay  Recency\n",
       "0       17850           9999.0      301\n",
       "1       13047             25.0       31\n",
       "2       12583             76.0        2\n",
       "3       13748              0.0       95\n",
       "4       15100           9999.0      329"
      ]
     },
     "execution_count": 22,
     "metadata": {},
     "output_type": "execute_result"
    }
   ],
   "source": [
    "ctm_max_purchase['Recency'] = (ctm_max_purchase['MaxPurchaseDate'].max() - ctm_max_purchase['MaxPurchaseDate']).dt.days\n",
    "\n",
    "# Merge the dataframes ctm_dt and ctm_max_purchase[['CustomerID', 'Recency']] on the CustomerID column.\n",
    "ctm_dt = pd.merge(ctm_dt, ctm_max_purchase[['CustomerID', 'Recency']], on='CustomerID')\n",
    "ctm_dt.head()"
   ]
  },
  {
   "cell_type": "code",
   "execution_count": 23,
   "metadata": {},
   "outputs": [
    {
     "data": {
      "text/html": [
       "<div>\n",
       "<style scoped>\n",
       "    .dataframe tbody tr th:only-of-type {\n",
       "        vertical-align: middle;\n",
       "    }\n",
       "\n",
       "    .dataframe tbody tr th {\n",
       "        vertical-align: top;\n",
       "    }\n",
       "\n",
       "    .dataframe thead th {\n",
       "        text-align: right;\n",
       "    }\n",
       "</style>\n",
       "<table border=\"1\" class=\"dataframe\">\n",
       "  <thead>\n",
       "    <tr style=\"text-align: right;\">\n",
       "      <th></th>\n",
       "      <th>Recency</th>\n",
       "    </tr>\n",
       "  </thead>\n",
       "  <tbody>\n",
       "    <tr>\n",
       "      <th>count</th>\n",
       "      <td>3360.000000</td>\n",
       "    </tr>\n",
       "    <tr>\n",
       "      <th>mean</th>\n",
       "      <td>107.606845</td>\n",
       "    </tr>\n",
       "    <tr>\n",
       "      <th>std</th>\n",
       "      <td>108.717980</td>\n",
       "    </tr>\n",
       "    <tr>\n",
       "      <th>min</th>\n",
       "      <td>0.000000</td>\n",
       "    </tr>\n",
       "    <tr>\n",
       "      <th>25%</th>\n",
       "      <td>17.000000</td>\n",
       "    </tr>\n",
       "    <tr>\n",
       "      <th>50%</th>\n",
       "      <td>63.000000</td>\n",
       "    </tr>\n",
       "    <tr>\n",
       "      <th>75%</th>\n",
       "      <td>184.000000</td>\n",
       "    </tr>\n",
       "    <tr>\n",
       "      <th>max</th>\n",
       "      <td>373.000000</td>\n",
       "    </tr>\n",
       "  </tbody>\n",
       "</table>\n",
       "</div>"
      ],
      "text/plain": [
       "           Recency\n",
       "count  3360.000000\n",
       "mean    107.606845\n",
       "std     108.717980\n",
       "min       0.000000\n",
       "25%      17.000000\n",
       "50%      63.000000\n",
       "75%     184.000000\n",
       "max     373.000000"
      ]
     },
     "execution_count": 23,
     "metadata": {},
     "output_type": "execute_result"
    }
   ],
   "source": [
    "pd.DataFrame(ctm_dt.Recency.describe())\n"
   ]
  },
  {
   "cell_type": "code",
   "execution_count": 24,
   "metadata": {},
   "outputs": [
    {
     "name": "stdout",
     "output_type": "stream",
     "text": [
      "Requirement already satisfied: nbformat in c:\\users\\lau\\appdata\\local\\programs\\python\\python311\\lib\\site-packages (5.10.4)Note: you may need to restart the kernel to use updated packages.\n",
      "\n",
      "Requirement already satisfied: fastjsonschema>=2.15 in c:\\users\\lau\\appdata\\local\\programs\\python\\python311\\lib\\site-packages (from nbformat) (2.19.1)\n",
      "Requirement already satisfied: jsonschema>=2.6 in c:\\users\\lau\\appdata\\local\\programs\\python\\python311\\lib\\site-packages (from nbformat) (4.19.0)\n",
      "Requirement already satisfied: jupyter-core!=5.0.*,>=4.12 in c:\\users\\lau\\appdata\\roaming\\python\\python311\\site-packages (from nbformat) (5.3.1)\n",
      "Requirement already satisfied: traitlets>=5.1 in c:\\users\\lau\\appdata\\roaming\\python\\python311\\site-packages (from nbformat) (5.10.0)\n",
      "Requirement already satisfied: attrs>=22.2.0 in c:\\users\\lau\\appdata\\local\\programs\\python\\python311\\lib\\site-packages (from jsonschema>=2.6->nbformat) (23.1.0)\n",
      "Requirement already satisfied: jsonschema-specifications>=2023.03.6 in c:\\users\\lau\\appdata\\local\\programs\\python\\python311\\lib\\site-packages (from jsonschema>=2.6->nbformat) (2023.7.1)\n",
      "Requirement already satisfied: referencing>=0.28.4 in c:\\users\\lau\\appdata\\local\\programs\\python\\python311\\lib\\site-packages (from jsonschema>=2.6->nbformat) (0.30.2)\n",
      "Requirement already satisfied: rpds-py>=0.7.1 in c:\\users\\lau\\appdata\\local\\programs\\python\\python311\\lib\\site-packages (from jsonschema>=2.6->nbformat) (0.10.3)\n",
      "Requirement already satisfied: platformdirs>=2.5 in c:\\users\\lau\\appdata\\roaming\\python\\python311\\site-packages (from jupyter-core!=5.0.*,>=4.12->nbformat) (3.10.0)\n",
      "Requirement already satisfied: pywin32>=300 in c:\\users\\lau\\appdata\\roaming\\python\\python311\\site-packages (from jupyter-core!=5.0.*,>=4.12->nbformat) (306)\n"
     ]
    }
   ],
   "source": [
    "pip install --upgrade nbformat\n"
   ]
  },
  {
   "cell_type": "code",
   "execution_count": 25,
   "metadata": {},
   "outputs": [
    {
     "name": "stdout",
     "output_type": "stream",
     "text": [
      "Requirement already satisfied: nbformat in c:\\users\\lau\\appdata\\local\\programs\\python\\python311\\lib\\site-packages (5.10.4)\n",
      "Requirement already satisfied: fastjsonschema>=2.15 in c:\\users\\lau\\appdata\\local\\programs\\python\\python311\\lib\\site-packages (from nbformat) (2.19.1)\n",
      "Requirement already satisfied: jsonschema>=2.6 in c:\\users\\lau\\appdata\\local\\programs\\python\\python311\\lib\\site-packages (from nbformat) (4.19.0)\n",
      "Requirement already satisfied: jupyter-core!=5.0.*,>=4.12 in c:\\users\\lau\\appdata\\roaming\\python\\python311\\site-packages (from nbformat) (5.3.1)\n",
      "Requirement already satisfied: traitlets>=5.1 in c:\\users\\lau\\appdata\\roaming\\python\\python311\\site-packages (from nbformat) (5.10.0)\n",
      "Requirement already satisfied: attrs>=22.2.0 in c:\\users\\lau\\appdata\\local\\programs\\python\\python311\\lib\\site-packages (from jsonschema>=2.6->nbformat) (23.1.0)\n",
      "Requirement already satisfied: jsonschema-specifications>=2023.03.6 in c:\\users\\lau\\appdata\\local\\programs\\python\\python311\\lib\\site-packages (from jsonschema>=2.6->nbformat) (2023.7.1)\n",
      "Requirement already satisfied: referencing>=0.28.4 in c:\\users\\lau\\appdata\\local\\programs\\python\\python311\\lib\\site-packages (from jsonschema>=2.6->nbformat) (0.30.2)\n",
      "Requirement already satisfied: rpds-py>=0.7.1 in c:\\users\\lau\\appdata\\local\\programs\\python\\python311\\lib\\site-packages (from jsonschema>=2.6->nbformat) (0.10.3)\n",
      "Requirement already satisfied: platformdirs>=2.5 in c:\\users\\lau\\appdata\\roaming\\python\\python311\\site-packages (from jupyter-core!=5.0.*,>=4.12->nbformat) (3.10.0)\n",
      "Requirement already satisfied: pywin32>=300 in c:\\users\\lau\\appdata\\roaming\\python\\python311\\site-packages (from jupyter-core!=5.0.*,>=4.12->nbformat) (306)\n",
      "Note: you may need to restart the kernel to use updated packages.\n"
     ]
    }
   ],
   "source": [
    "pip install nbformat\n"
   ]
  },
  {
   "cell_type": "code",
   "execution_count": 26,
   "metadata": {},
   "outputs": [
    {
     "data": {
      "application/vnd.plotly.v1+json": {
       "config": {
        "plotlyServerURL": "https://plot.ly"
       },
       "data": [
        {
         "hovertemplate": "x=%{x}<br>y=%{y}<extra></extra>",
         "legendgroup": "",
         "line": {
          "color": "#636efa",
          "dash": "solid"
         },
         "marker": {
          "symbol": "circle"
         },
         "mode": "lines",
         "name": "",
         "orientation": "v",
         "showlegend": false,
         "type": "scatter",
         "x": [
          1,
          2,
          3,
          4,
          5,
          6,
          7,
          8,
          9
         ],
         "xaxis": "x",
         "y": [
          39702033.64255954,
          8400516.402747951,
          3582236.0586754885,
          2136820.006516423,
          1309646.1420681528,
          887701.9404066877,
          677600.1730178314,
          524090.8807896133,
          385944.6077877097
         ],
         "yaxis": "y"
        }
       ],
       "layout": {
        "legend": {
         "tracegroupgap": 0
        },
        "margin": {
         "t": 60
        },
        "template": {
         "data": {
          "bar": [
           {
            "error_x": {
             "color": "#f2f5fa"
            },
            "error_y": {
             "color": "#f2f5fa"
            },
            "marker": {
             "line": {
              "color": "rgb(17,17,17)",
              "width": 0.5
             },
             "pattern": {
              "fillmode": "overlay",
              "size": 10,
              "solidity": 0.2
             }
            },
            "type": "bar"
           }
          ],
          "barpolar": [
           {
            "marker": {
             "line": {
              "color": "rgb(17,17,17)",
              "width": 0.5
             },
             "pattern": {
              "fillmode": "overlay",
              "size": 10,
              "solidity": 0.2
             }
            },
            "type": "barpolar"
           }
          ],
          "carpet": [
           {
            "aaxis": {
             "endlinecolor": "#A2B1C6",
             "gridcolor": "#506784",
             "linecolor": "#506784",
             "minorgridcolor": "#506784",
             "startlinecolor": "#A2B1C6"
            },
            "baxis": {
             "endlinecolor": "#A2B1C6",
             "gridcolor": "#506784",
             "linecolor": "#506784",
             "minorgridcolor": "#506784",
             "startlinecolor": "#A2B1C6"
            },
            "type": "carpet"
           }
          ],
          "choropleth": [
           {
            "colorbar": {
             "outlinewidth": 0,
             "ticks": ""
            },
            "type": "choropleth"
           }
          ],
          "contour": [
           {
            "colorbar": {
             "outlinewidth": 0,
             "ticks": ""
            },
            "colorscale": [
             [
              0,
              "#0d0887"
             ],
             [
              0.1111111111111111,
              "#46039f"
             ],
             [
              0.2222222222222222,
              "#7201a8"
             ],
             [
              0.3333333333333333,
              "#9c179e"
             ],
             [
              0.4444444444444444,
              "#bd3786"
             ],
             [
              0.5555555555555556,
              "#d8576b"
             ],
             [
              0.6666666666666666,
              "#ed7953"
             ],
             [
              0.7777777777777778,
              "#fb9f3a"
             ],
             [
              0.8888888888888888,
              "#fdca26"
             ],
             [
              1,
              "#f0f921"
             ]
            ],
            "type": "contour"
           }
          ],
          "contourcarpet": [
           {
            "colorbar": {
             "outlinewidth": 0,
             "ticks": ""
            },
            "type": "contourcarpet"
           }
          ],
          "heatmap": [
           {
            "colorbar": {
             "outlinewidth": 0,
             "ticks": ""
            },
            "colorscale": [
             [
              0,
              "#0d0887"
             ],
             [
              0.1111111111111111,
              "#46039f"
             ],
             [
              0.2222222222222222,
              "#7201a8"
             ],
             [
              0.3333333333333333,
              "#9c179e"
             ],
             [
              0.4444444444444444,
              "#bd3786"
             ],
             [
              0.5555555555555556,
              "#d8576b"
             ],
             [
              0.6666666666666666,
              "#ed7953"
             ],
             [
              0.7777777777777778,
              "#fb9f3a"
             ],
             [
              0.8888888888888888,
              "#fdca26"
             ],
             [
              1,
              "#f0f921"
             ]
            ],
            "type": "heatmap"
           }
          ],
          "heatmapgl": [
           {
            "colorbar": {
             "outlinewidth": 0,
             "ticks": ""
            },
            "colorscale": [
             [
              0,
              "#0d0887"
             ],
             [
              0.1111111111111111,
              "#46039f"
             ],
             [
              0.2222222222222222,
              "#7201a8"
             ],
             [
              0.3333333333333333,
              "#9c179e"
             ],
             [
              0.4444444444444444,
              "#bd3786"
             ],
             [
              0.5555555555555556,
              "#d8576b"
             ],
             [
              0.6666666666666666,
              "#ed7953"
             ],
             [
              0.7777777777777778,
              "#fb9f3a"
             ],
             [
              0.8888888888888888,
              "#fdca26"
             ],
             [
              1,
              "#f0f921"
             ]
            ],
            "type": "heatmapgl"
           }
          ],
          "histogram": [
           {
            "marker": {
             "pattern": {
              "fillmode": "overlay",
              "size": 10,
              "solidity": 0.2
             }
            },
            "type": "histogram"
           }
          ],
          "histogram2d": [
           {
            "colorbar": {
             "outlinewidth": 0,
             "ticks": ""
            },
            "colorscale": [
             [
              0,
              "#0d0887"
             ],
             [
              0.1111111111111111,
              "#46039f"
             ],
             [
              0.2222222222222222,
              "#7201a8"
             ],
             [
              0.3333333333333333,
              "#9c179e"
             ],
             [
              0.4444444444444444,
              "#bd3786"
             ],
             [
              0.5555555555555556,
              "#d8576b"
             ],
             [
              0.6666666666666666,
              "#ed7953"
             ],
             [
              0.7777777777777778,
              "#fb9f3a"
             ],
             [
              0.8888888888888888,
              "#fdca26"
             ],
             [
              1,
              "#f0f921"
             ]
            ],
            "type": "histogram2d"
           }
          ],
          "histogram2dcontour": [
           {
            "colorbar": {
             "outlinewidth": 0,
             "ticks": ""
            },
            "colorscale": [
             [
              0,
              "#0d0887"
             ],
             [
              0.1111111111111111,
              "#46039f"
             ],
             [
              0.2222222222222222,
              "#7201a8"
             ],
             [
              0.3333333333333333,
              "#9c179e"
             ],
             [
              0.4444444444444444,
              "#bd3786"
             ],
             [
              0.5555555555555556,
              "#d8576b"
             ],
             [
              0.6666666666666666,
              "#ed7953"
             ],
             [
              0.7777777777777778,
              "#fb9f3a"
             ],
             [
              0.8888888888888888,
              "#fdca26"
             ],
             [
              1,
              "#f0f921"
             ]
            ],
            "type": "histogram2dcontour"
           }
          ],
          "mesh3d": [
           {
            "colorbar": {
             "outlinewidth": 0,
             "ticks": ""
            },
            "type": "mesh3d"
           }
          ],
          "parcoords": [
           {
            "line": {
             "colorbar": {
              "outlinewidth": 0,
              "ticks": ""
             }
            },
            "type": "parcoords"
           }
          ],
          "pie": [
           {
            "automargin": true,
            "type": "pie"
           }
          ],
          "scatter": [
           {
            "marker": {
             "line": {
              "color": "#283442"
             }
            },
            "type": "scatter"
           }
          ],
          "scatter3d": [
           {
            "line": {
             "colorbar": {
              "outlinewidth": 0,
              "ticks": ""
             }
            },
            "marker": {
             "colorbar": {
              "outlinewidth": 0,
              "ticks": ""
             }
            },
            "type": "scatter3d"
           }
          ],
          "scattercarpet": [
           {
            "marker": {
             "colorbar": {
              "outlinewidth": 0,
              "ticks": ""
             }
            },
            "type": "scattercarpet"
           }
          ],
          "scattergeo": [
           {
            "marker": {
             "colorbar": {
              "outlinewidth": 0,
              "ticks": ""
             }
            },
            "type": "scattergeo"
           }
          ],
          "scattergl": [
           {
            "marker": {
             "line": {
              "color": "#283442"
             }
            },
            "type": "scattergl"
           }
          ],
          "scattermapbox": [
           {
            "marker": {
             "colorbar": {
              "outlinewidth": 0,
              "ticks": ""
             }
            },
            "type": "scattermapbox"
           }
          ],
          "scatterpolar": [
           {
            "marker": {
             "colorbar": {
              "outlinewidth": 0,
              "ticks": ""
             }
            },
            "type": "scatterpolar"
           }
          ],
          "scatterpolargl": [
           {
            "marker": {
             "colorbar": {
              "outlinewidth": 0,
              "ticks": ""
             }
            },
            "type": "scatterpolargl"
           }
          ],
          "scatterternary": [
           {
            "marker": {
             "colorbar": {
              "outlinewidth": 0,
              "ticks": ""
             }
            },
            "type": "scatterternary"
           }
          ],
          "surface": [
           {
            "colorbar": {
             "outlinewidth": 0,
             "ticks": ""
            },
            "colorscale": [
             [
              0,
              "#0d0887"
             ],
             [
              0.1111111111111111,
              "#46039f"
             ],
             [
              0.2222222222222222,
              "#7201a8"
             ],
             [
              0.3333333333333333,
              "#9c179e"
             ],
             [
              0.4444444444444444,
              "#bd3786"
             ],
             [
              0.5555555555555556,
              "#d8576b"
             ],
             [
              0.6666666666666666,
              "#ed7953"
             ],
             [
              0.7777777777777778,
              "#fb9f3a"
             ],
             [
              0.8888888888888888,
              "#fdca26"
             ],
             [
              1,
              "#f0f921"
             ]
            ],
            "type": "surface"
           }
          ],
          "table": [
           {
            "cells": {
             "fill": {
              "color": "#506784"
             },
             "line": {
              "color": "rgb(17,17,17)"
             }
            },
            "header": {
             "fill": {
              "color": "#2a3f5f"
             },
             "line": {
              "color": "rgb(17,17,17)"
             }
            },
            "type": "table"
           }
          ]
         },
         "layout": {
          "annotationdefaults": {
           "arrowcolor": "#f2f5fa",
           "arrowhead": 0,
           "arrowwidth": 1
          },
          "autotypenumbers": "strict",
          "coloraxis": {
           "colorbar": {
            "outlinewidth": 0,
            "ticks": ""
           }
          },
          "colorscale": {
           "diverging": [
            [
             0,
             "#8e0152"
            ],
            [
             0.1,
             "#c51b7d"
            ],
            [
             0.2,
             "#de77ae"
            ],
            [
             0.3,
             "#f1b6da"
            ],
            [
             0.4,
             "#fde0ef"
            ],
            [
             0.5,
             "#f7f7f7"
            ],
            [
             0.6,
             "#e6f5d0"
            ],
            [
             0.7,
             "#b8e186"
            ],
            [
             0.8,
             "#7fbc41"
            ],
            [
             0.9,
             "#4d9221"
            ],
            [
             1,
             "#276419"
            ]
           ],
           "sequential": [
            [
             0,
             "#0d0887"
            ],
            [
             0.1111111111111111,
             "#46039f"
            ],
            [
             0.2222222222222222,
             "#7201a8"
            ],
            [
             0.3333333333333333,
             "#9c179e"
            ],
            [
             0.4444444444444444,
             "#bd3786"
            ],
            [
             0.5555555555555556,
             "#d8576b"
            ],
            [
             0.6666666666666666,
             "#ed7953"
            ],
            [
             0.7777777777777778,
             "#fb9f3a"
            ],
            [
             0.8888888888888888,
             "#fdca26"
            ],
            [
             1,
             "#f0f921"
            ]
           ],
           "sequentialminus": [
            [
             0,
             "#0d0887"
            ],
            [
             0.1111111111111111,
             "#46039f"
            ],
            [
             0.2222222222222222,
             "#7201a8"
            ],
            [
             0.3333333333333333,
             "#9c179e"
            ],
            [
             0.4444444444444444,
             "#bd3786"
            ],
            [
             0.5555555555555556,
             "#d8576b"
            ],
            [
             0.6666666666666666,
             "#ed7953"
            ],
            [
             0.7777777777777778,
             "#fb9f3a"
            ],
            [
             0.8888888888888888,
             "#fdca26"
            ],
            [
             1,
             "#f0f921"
            ]
           ]
          },
          "colorway": [
           "#636efa",
           "#EF553B",
           "#00cc96",
           "#ab63fa",
           "#FFA15A",
           "#19d3f3",
           "#FF6692",
           "#B6E880",
           "#FF97FF",
           "#FECB52"
          ],
          "font": {
           "color": "#f2f5fa"
          },
          "geo": {
           "bgcolor": "rgb(17,17,17)",
           "lakecolor": "rgb(17,17,17)",
           "landcolor": "rgb(17,17,17)",
           "showlakes": true,
           "showland": true,
           "subunitcolor": "#506784"
          },
          "hoverlabel": {
           "align": "left"
          },
          "hovermode": "closest",
          "mapbox": {
           "style": "dark"
          },
          "paper_bgcolor": "rgb(17,17,17)",
          "plot_bgcolor": "rgb(17,17,17)",
          "polar": {
           "angularaxis": {
            "gridcolor": "#506784",
            "linecolor": "#506784",
            "ticks": ""
           },
           "bgcolor": "rgb(17,17,17)",
           "radialaxis": {
            "gridcolor": "#506784",
            "linecolor": "#506784",
            "ticks": ""
           }
          },
          "scene": {
           "xaxis": {
            "backgroundcolor": "rgb(17,17,17)",
            "gridcolor": "#506784",
            "gridwidth": 2,
            "linecolor": "#506784",
            "showbackground": true,
            "ticks": "",
            "zerolinecolor": "#C8D4E3"
           },
           "yaxis": {
            "backgroundcolor": "rgb(17,17,17)",
            "gridcolor": "#506784",
            "gridwidth": 2,
            "linecolor": "#506784",
            "showbackground": true,
            "ticks": "",
            "zerolinecolor": "#C8D4E3"
           },
           "zaxis": {
            "backgroundcolor": "rgb(17,17,17)",
            "gridcolor": "#506784",
            "gridwidth": 2,
            "linecolor": "#506784",
            "showbackground": true,
            "ticks": "",
            "zerolinecolor": "#C8D4E3"
           }
          },
          "shapedefaults": {
           "line": {
            "color": "#f2f5fa"
           }
          },
          "sliderdefaults": {
           "bgcolor": "#C8D4E3",
           "bordercolor": "rgb(17,17,17)",
           "borderwidth": 1,
           "tickwidth": 0
          },
          "ternary": {
           "aaxis": {
            "gridcolor": "#506784",
            "linecolor": "#506784",
            "ticks": ""
           },
           "baxis": {
            "gridcolor": "#506784",
            "linecolor": "#506784",
            "ticks": ""
           },
           "bgcolor": "rgb(17,17,17)",
           "caxis": {
            "gridcolor": "#506784",
            "linecolor": "#506784",
            "ticks": ""
           }
          },
          "title": {
           "x": 0.05
          },
          "updatemenudefaults": {
           "bgcolor": "#506784",
           "borderwidth": 0
          },
          "xaxis": {
           "automargin": true,
           "gridcolor": "#283442",
           "linecolor": "#506784",
           "ticks": "",
           "title": {
            "standoff": 15
           },
           "zerolinecolor": "#283442",
           "zerolinewidth": 2
          },
          "yaxis": {
           "automargin": true,
           "gridcolor": "#283442",
           "linecolor": "#506784",
           "ticks": "",
           "title": {
            "standoff": 15
           },
           "zerolinecolor": "#283442",
           "zerolinewidth": 2
          }
         }
        },
        "title": {
         "x": 0
        },
        "xaxis": {
         "anchor": "y",
         "domain": [
          0,
          1
         ],
         "title": {
          "text": "Number of cluster"
         }
        },
        "yaxis": {
         "anchor": "x",
         "domain": [
          0,
          1
         ],
         "title": {
          "text": ""
         }
        }
       }
      }
     },
     "metadata": {},
     "output_type": "display_data"
    }
   ],
   "source": [
    "import plotly.io as pio\n",
    "my_dict={}\n",
    "ctm_recency = ctm_dt[['Recency']]\n",
    "for idx in range(1, 10):\n",
    "    kmeans = KMeans(n_clusters=idx, max_iter=1000).fit(ctm_recency)\n",
    "    ctm_recency[\"clusters\"] = kmeans.labels_\n",
    "    my_dict[idx] = kmeans.inertia_ \n",
    "\n",
    "line_fig = px.line(x=list(my_dict.keys()), \n",
    "                   y=list(my_dict.values()), \n",
    "                   template=\"plotly_dark\"\n",
    "                  )\n",
    "\n",
    "line_fig.update_layout(title_x=0, \n",
    "                       xaxis_title=\"Number of cluster\", \n",
    "                       yaxis_title=\"\"\n",
    "                      )\n",
    "\n"
   ]
  },
  {
   "cell_type": "code",
   "execution_count": 27,
   "metadata": {},
   "outputs": [
    {
     "name": "stdout",
     "output_type": "stream",
     "text": [
      "Name: nbformat\n",
      "Version: 5.10.4\n",
      "Summary: The Jupyter Notebook format\n",
      "Home-page: \n",
      "Author: \n",
      "Author-email: Jupyter Development Team <jupyter@googlegroups.com>\n",
      "License: BSD 3-Clause License\n",
      "\n",
      "- Copyright (c) 2001-2015, IPython Development Team\n",
      "- Copyright (c) 2015-, Jupyter Development Team\n",
      "\n",
      "All rights reserved.\n",
      "\n",
      "Redistribution and use in source and binary forms, with or without\n",
      "modification, are permitted provided that the following conditions are met:\n",
      "\n",
      "1. Redistributions of source code must retain the above copyright notice, this\n",
      "   list of conditions and the following disclaimer.\n",
      "\n",
      "2. Redistributions in binary form must reproduce the above copyright notice,\n",
      "   this list of conditions and the following disclaimer in the documentation\n",
      "   and/or other materials provided with the distribution.\n",
      "\n",
      "3. Neither the name of the copyright holder nor the names of its\n",
      "   contributors may be used to endorse or promote products derived from\n",
      "   this software without specific prior written permission.\n",
      "\n",
      "THIS SOFTWARE IS PROVIDED BY THE COPYRIGHT HOLDERS AND CONTRIBUTORS \"AS IS\"\n",
      "AND ANY EXPRESS OR IMPLIED WARRANTIES, INCLUDING, BUT NOT LIMITED TO, THE\n",
      "IMPLIED WARRANTIES OF MERCHANTABILITY AND FITNESS FOR A PARTICULAR PURPOSE ARE\n",
      "DISCLAIMED. IN NO EVENT SHALL THE COPYRIGHT HOLDER OR CONTRIBUTORS BE LIABLE\n",
      "FOR ANY DIRECT, INDIRECT, INCIDENTAL, SPECIAL, EXEMPLARY, OR CONSEQUENTIAL\n",
      "DAMAGES (INCLUDING, BUT NOT LIMITED TO, PROCUREMENT OF SUBSTITUTE GOODS OR\n",
      "SERVICES; LOSS OF USE, DATA, OR PROFITS; OR BUSINESS INTERRUPTION) HOWEVER\n",
      "CAUSED AND ON ANY THEORY OF LIABILITY, WHETHER IN CONTRACT, STRICT LIABILITY,\n",
      "OR TORT (INCLUDING NEGLIGENCE OR OTHERWISE) ARISING IN ANY WAY OUT OF THE USE\n",
      "OF THIS SOFTWARE, EVEN IF ADVISED OF THE POSSIBILITY OF SUCH DAMAGE.\n",
      "Location: c:\\Users\\LAU\\AppData\\Local\\Programs\\Python\\Python311\\Lib\\site-packages\n",
      "Requires: fastjsonschema, jsonschema, jupyter-core, traitlets\n",
      "Required-by: \n",
      "Note: you may need to restart the kernel to use updated packages.\n"
     ]
    }
   ],
   "source": [
    "pip show nbformat\n"
   ]
  },
  {
   "cell_type": "code",
   "execution_count": 28,
   "metadata": {},
   "outputs": [],
   "source": [
    "number_of_clusters = 3\n"
   ]
  },
  {
   "cell_type": "code",
   "execution_count": 29,
   "metadata": {},
   "outputs": [
    {
     "data": {
      "text/html": [
       "<div>\n",
       "<style scoped>\n",
       "    .dataframe tbody tr th:only-of-type {\n",
       "        vertical-align: middle;\n",
       "    }\n",
       "\n",
       "    .dataframe tbody tr th {\n",
       "        vertical-align: top;\n",
       "    }\n",
       "\n",
       "    .dataframe thead th {\n",
       "        text-align: right;\n",
       "    }\n",
       "</style>\n",
       "<table border=\"1\" class=\"dataframe\">\n",
       "  <thead>\n",
       "    <tr style=\"text-align: right;\">\n",
       "      <th></th>\n",
       "      <th>CustomerID</th>\n",
       "      <th>NextPurchaseDay</th>\n",
       "      <th>Recency</th>\n",
       "      <th>RecencyCluster</th>\n",
       "    </tr>\n",
       "  </thead>\n",
       "  <tbody>\n",
       "    <tr>\n",
       "      <th>0</th>\n",
       "      <td>17850</td>\n",
       "      <td>9999.0</td>\n",
       "      <td>301</td>\n",
       "      <td>1</td>\n",
       "    </tr>\n",
       "    <tr>\n",
       "      <th>1</th>\n",
       "      <td>13047</td>\n",
       "      <td>25.0</td>\n",
       "      <td>31</td>\n",
       "      <td>0</td>\n",
       "    </tr>\n",
       "    <tr>\n",
       "      <th>2</th>\n",
       "      <td>12583</td>\n",
       "      <td>76.0</td>\n",
       "      <td>2</td>\n",
       "      <td>0</td>\n",
       "    </tr>\n",
       "    <tr>\n",
       "      <th>3</th>\n",
       "      <td>13748</td>\n",
       "      <td>0.0</td>\n",
       "      <td>95</td>\n",
       "      <td>2</td>\n",
       "    </tr>\n",
       "    <tr>\n",
       "      <th>4</th>\n",
       "      <td>15100</td>\n",
       "      <td>9999.0</td>\n",
       "      <td>329</td>\n",
       "      <td>1</td>\n",
       "    </tr>\n",
       "  </tbody>\n",
       "</table>\n",
       "</div>"
      ],
      "text/plain": [
       "   CustomerID  NextPurchaseDay  Recency  RecencyCluster\n",
       "0       17850           9999.0      301               1\n",
       "1       13047             25.0       31               0\n",
       "2       12583             76.0        2               0\n",
       "3       13748              0.0       95               2\n",
       "4       15100           9999.0      329               1"
      ]
     },
     "execution_count": 29,
     "metadata": {},
     "output_type": "execute_result"
    }
   ],
   "source": [
    "kmeans = KMeans(n_clusters=number_of_clusters)\n",
    "kmeans.fit(ctm_dt[['Recency']])\n",
    "ctm_dt['RecencyCluster'] = kmeans.predict(ctm_dt[['Recency']])\n",
    "ctm_dt.head()"
   ]
  },
  {
   "cell_type": "code",
   "execution_count": 30,
   "metadata": {},
   "outputs": [],
   "source": [
    "def order_cluster(df, target_field_name, cluster_field_name, ascending):\n",
    "    \n",
    "    new_cluster_field_name = \"new_\" + cluster_field_name\n",
    "    \n",
    "    df_new = df.groupby(cluster_field_name)[target_field_name].mean().reset_index()\n",
    "    \n",
    "    df_new = df_new.sort_values(by=target_field_name, ascending=ascending).reset_index(drop=True)\n",
    "    \n",
    "    df_new[\"index\"] = df_new.index\n",
    "    \n",
    "    df_final = pd.merge(df, df_new[[cluster_field_name, \"index\"]], on=cluster_field_name)\n",
    "    \n",
    "    df_final = df_final.drop([cluster_field_name], axis=1)\n",
    "    \n",
    "    df_final = df_final.rename(columns={\"index\": cluster_field_name})\n",
    "    \n",
    "    return df_final\n"
   ]
  },
  {
   "cell_type": "code",
   "execution_count": 31,
   "metadata": {},
   "outputs": [
    {
     "data": {
      "text/html": [
       "<div>\n",
       "<style scoped>\n",
       "    .dataframe tbody tr th:only-of-type {\n",
       "        vertical-align: middle;\n",
       "    }\n",
       "\n",
       "    .dataframe tbody tr th {\n",
       "        vertical-align: top;\n",
       "    }\n",
       "\n",
       "    .dataframe thead th {\n",
       "        text-align: right;\n",
       "    }\n",
       "</style>\n",
       "<table border=\"1\" class=\"dataframe\">\n",
       "  <thead>\n",
       "    <tr style=\"text-align: right;\">\n",
       "      <th></th>\n",
       "      <th>CustomerID</th>\n",
       "      <th>NextPurchaseDay</th>\n",
       "      <th>Recency</th>\n",
       "      <th>RecencyCluster</th>\n",
       "    </tr>\n",
       "  </thead>\n",
       "  <tbody>\n",
       "    <tr>\n",
       "      <th>0</th>\n",
       "      <td>17850</td>\n",
       "      <td>9999.0</td>\n",
       "      <td>301</td>\n",
       "      <td>0</td>\n",
       "    </tr>\n",
       "    <tr>\n",
       "      <th>1</th>\n",
       "      <td>13047</td>\n",
       "      <td>25.0</td>\n",
       "      <td>31</td>\n",
       "      <td>2</td>\n",
       "    </tr>\n",
       "    <tr>\n",
       "      <th>2</th>\n",
       "      <td>12583</td>\n",
       "      <td>76.0</td>\n",
       "      <td>2</td>\n",
       "      <td>2</td>\n",
       "    </tr>\n",
       "    <tr>\n",
       "      <th>3</th>\n",
       "      <td>13748</td>\n",
       "      <td>0.0</td>\n",
       "      <td>95</td>\n",
       "      <td>1</td>\n",
       "    </tr>\n",
       "    <tr>\n",
       "      <th>4</th>\n",
       "      <td>15100</td>\n",
       "      <td>9999.0</td>\n",
       "      <td>329</td>\n",
       "      <td>0</td>\n",
       "    </tr>\n",
       "  </tbody>\n",
       "</table>\n",
       "</div>"
      ],
      "text/plain": [
       "   CustomerID  NextPurchaseDay  Recency  RecencyCluster\n",
       "0       17850           9999.0      301               0\n",
       "1       13047             25.0       31               2\n",
       "2       12583             76.0        2               2\n",
       "3       13748              0.0       95               1\n",
       "4       15100           9999.0      329               0"
      ]
     },
     "execution_count": 31,
     "metadata": {},
     "output_type": "execute_result"
    }
   ],
   "source": [
    "ctm_dt = order_cluster(ctm_dt, 'Recency', 'RecencyCluster', False)\n",
    "ctm_dt.head()"
   ]
  },
  {
   "cell_type": "code",
   "execution_count": 32,
   "metadata": {},
   "outputs": [
    {
     "data": {
      "text/html": [
       "<div>\n",
       "<style scoped>\n",
       "    .dataframe tbody tr th:only-of-type {\n",
       "        vertical-align: middle;\n",
       "    }\n",
       "\n",
       "    .dataframe tbody tr th {\n",
       "        vertical-align: top;\n",
       "    }\n",
       "\n",
       "    .dataframe thead th {\n",
       "        text-align: right;\n",
       "    }\n",
       "</style>\n",
       "<table border=\"1\" class=\"dataframe\">\n",
       "  <thead>\n",
       "    <tr style=\"text-align: right;\">\n",
       "      <th></th>\n",
       "      <th>count</th>\n",
       "      <th>mean</th>\n",
       "      <th>std</th>\n",
       "      <th>min</th>\n",
       "      <th>25%</th>\n",
       "      <th>50%</th>\n",
       "      <th>75%</th>\n",
       "      <th>max</th>\n",
       "    </tr>\n",
       "    <tr>\n",
       "      <th>RecencyCluster</th>\n",
       "      <th></th>\n",
       "      <th></th>\n",
       "      <th></th>\n",
       "      <th></th>\n",
       "      <th></th>\n",
       "      <th></th>\n",
       "      <th></th>\n",
       "      <th></th>\n",
       "    </tr>\n",
       "  </thead>\n",
       "  <tbody>\n",
       "    <tr>\n",
       "      <th>0</th>\n",
       "      <td>634.0</td>\n",
       "      <td>294.372240</td>\n",
       "      <td>45.419375</td>\n",
       "      <td>224.0</td>\n",
       "      <td>256.0</td>\n",
       "      <td>287.0</td>\n",
       "      <td>329.0</td>\n",
       "      <td>373.0</td>\n",
       "    </tr>\n",
       "    <tr>\n",
       "      <th>1</th>\n",
       "      <td>795.0</td>\n",
       "      <td>153.030189</td>\n",
       "      <td>37.863790</td>\n",
       "      <td>91.0</td>\n",
       "      <td>119.0</td>\n",
       "      <td>153.0</td>\n",
       "      <td>185.0</td>\n",
       "      <td>222.0</td>\n",
       "    </tr>\n",
       "    <tr>\n",
       "      <th>2</th>\n",
       "      <td>1931.0</td>\n",
       "      <td>27.585707</td>\n",
       "      <td>24.281196</td>\n",
       "      <td>0.0</td>\n",
       "      <td>8.0</td>\n",
       "      <td>21.0</td>\n",
       "      <td>43.0</td>\n",
       "      <td>90.0</td>\n",
       "    </tr>\n",
       "  </tbody>\n",
       "</table>\n",
       "</div>"
      ],
      "text/plain": [
       "                 count        mean        std    min    25%    50%    75%  \\\n",
       "RecencyCluster                                                              \n",
       "0                634.0  294.372240  45.419375  224.0  256.0  287.0  329.0   \n",
       "1                795.0  153.030189  37.863790   91.0  119.0  153.0  185.0   \n",
       "2               1931.0   27.585707  24.281196    0.0    8.0   21.0   43.0   \n",
       "\n",
       "                  max  \n",
       "RecencyCluster         \n",
       "0               373.0  \n",
       "1               222.0  \n",
       "2                90.0  "
      ]
     },
     "execution_count": 32,
     "metadata": {},
     "output_type": "execute_result"
    }
   ],
   "source": [
    "ctm_dt.groupby('RecencyCluster')['Recency'].describe()\n"
   ]
  },
  {
   "cell_type": "code",
   "execution_count": 33,
   "metadata": {},
   "outputs": [],
   "source": [
    "ctm_frequency = df.groupby('CustomerID').InvoiceDate.count().reset_index()\n",
    "ctm_frequency.columns = ['CustomerID','Frequency']"
   ]
  },
  {
   "cell_type": "code",
   "execution_count": 34,
   "metadata": {},
   "outputs": [
    {
     "data": {
      "text/html": [
       "<div>\n",
       "<style scoped>\n",
       "    .dataframe tbody tr th:only-of-type {\n",
       "        vertical-align: middle;\n",
       "    }\n",
       "\n",
       "    .dataframe tbody tr th {\n",
       "        vertical-align: top;\n",
       "    }\n",
       "\n",
       "    .dataframe thead th {\n",
       "        text-align: right;\n",
       "    }\n",
       "</style>\n",
       "<table border=\"1\" class=\"dataframe\">\n",
       "  <thead>\n",
       "    <tr style=\"text-align: right;\">\n",
       "      <th></th>\n",
       "      <th>CustomerID</th>\n",
       "      <th>NextPurchaseDay</th>\n",
       "      <th>Recency</th>\n",
       "      <th>RecencyCluster</th>\n",
       "      <th>Frequency</th>\n",
       "    </tr>\n",
       "  </thead>\n",
       "  <tbody>\n",
       "    <tr>\n",
       "      <th>0</th>\n",
       "      <td>17850</td>\n",
       "      <td>9999.0</td>\n",
       "      <td>301</td>\n",
       "      <td>0</td>\n",
       "      <td>312</td>\n",
       "    </tr>\n",
       "    <tr>\n",
       "      <th>1</th>\n",
       "      <td>13047</td>\n",
       "      <td>25.0</td>\n",
       "      <td>31</td>\n",
       "      <td>2</td>\n",
       "      <td>196</td>\n",
       "    </tr>\n",
       "    <tr>\n",
       "      <th>2</th>\n",
       "      <td>12583</td>\n",
       "      <td>76.0</td>\n",
       "      <td>2</td>\n",
       "      <td>2</td>\n",
       "      <td>251</td>\n",
       "    </tr>\n",
       "    <tr>\n",
       "      <th>3</th>\n",
       "      <td>13748</td>\n",
       "      <td>0.0</td>\n",
       "      <td>95</td>\n",
       "      <td>1</td>\n",
       "      <td>28</td>\n",
       "    </tr>\n",
       "    <tr>\n",
       "      <th>4</th>\n",
       "      <td>15100</td>\n",
       "      <td>9999.0</td>\n",
       "      <td>329</td>\n",
       "      <td>0</td>\n",
       "      <td>6</td>\n",
       "    </tr>\n",
       "  </tbody>\n",
       "</table>\n",
       "</div>"
      ],
      "text/plain": [
       "   CustomerID  NextPurchaseDay  Recency  RecencyCluster  Frequency\n",
       "0       17850           9999.0      301               0        312\n",
       "1       13047             25.0       31               2        196\n",
       "2       12583             76.0        2               2        251\n",
       "3       13748              0.0       95               1         28\n",
       "4       15100           9999.0      329               0          6"
      ]
     },
     "execution_count": 34,
     "metadata": {},
     "output_type": "execute_result"
    }
   ],
   "source": [
    "ctm_dt = pd.merge(ctm_dt, ctm_frequency, on='CustomerID')\n",
    "\n",
    "ctm_dt.head()"
   ]
  },
  {
   "cell_type": "code",
   "execution_count": 35,
   "metadata": {},
   "outputs": [
    {
     "data": {
      "text/html": [
       "<div>\n",
       "<style scoped>\n",
       "    .dataframe tbody tr th:only-of-type {\n",
       "        vertical-align: middle;\n",
       "    }\n",
       "\n",
       "    .dataframe tbody tr th {\n",
       "        vertical-align: top;\n",
       "    }\n",
       "\n",
       "    .dataframe thead th {\n",
       "        text-align: right;\n",
       "    }\n",
       "</style>\n",
       "<table border=\"1\" class=\"dataframe\">\n",
       "  <thead>\n",
       "    <tr style=\"text-align: right;\">\n",
       "      <th></th>\n",
       "      <th>Frequency</th>\n",
       "    </tr>\n",
       "  </thead>\n",
       "  <tbody>\n",
       "    <tr>\n",
       "      <th>count</th>\n",
       "      <td>3360.000000</td>\n",
       "    </tr>\n",
       "    <tr>\n",
       "      <th>mean</th>\n",
       "      <td>107.912202</td>\n",
       "    </tr>\n",
       "    <tr>\n",
       "      <th>std</th>\n",
       "      <td>261.386351</td>\n",
       "    </tr>\n",
       "    <tr>\n",
       "      <th>min</th>\n",
       "      <td>1.000000</td>\n",
       "    </tr>\n",
       "    <tr>\n",
       "      <th>25%</th>\n",
       "      <td>19.000000</td>\n",
       "    </tr>\n",
       "    <tr>\n",
       "      <th>50%</th>\n",
       "      <td>50.000000</td>\n",
       "    </tr>\n",
       "    <tr>\n",
       "      <th>75%</th>\n",
       "      <td>119.000000</td>\n",
       "    </tr>\n",
       "    <tr>\n",
       "      <th>max</th>\n",
       "      <td>7983.000000</td>\n",
       "    </tr>\n",
       "  </tbody>\n",
       "</table>\n",
       "</div>"
      ],
      "text/plain": [
       "         Frequency\n",
       "count  3360.000000\n",
       "mean    107.912202\n",
       "std     261.386351\n",
       "min       1.000000\n",
       "25%      19.000000\n",
       "50%      50.000000\n",
       "75%     119.000000\n",
       "max    7983.000000"
      ]
     },
     "execution_count": 35,
     "metadata": {},
     "output_type": "execute_result"
    }
   ],
   "source": [
    "pd.DataFrame(ctm_dt.Frequency.describe())\n"
   ]
  },
  {
   "cell_type": "code",
   "execution_count": 36,
   "metadata": {},
   "outputs": [],
   "source": [
    "kmeans = KMeans(n_clusters=number_of_clusters)\n",
    "kmeans.fit(ctm_dt[['Frequency']])\n",
    "ctm_dt['FrequencyCluster'] = kmeans.predict(ctm_dt[['Frequency']])"
   ]
  },
  {
   "cell_type": "code",
   "execution_count": 37,
   "metadata": {},
   "outputs": [
    {
     "data": {
      "text/html": [
       "<div>\n",
       "<style scoped>\n",
       "    .dataframe tbody tr th:only-of-type {\n",
       "        vertical-align: middle;\n",
       "    }\n",
       "\n",
       "    .dataframe tbody tr th {\n",
       "        vertical-align: top;\n",
       "    }\n",
       "\n",
       "    .dataframe thead th {\n",
       "        text-align: right;\n",
       "    }\n",
       "</style>\n",
       "<table border=\"1\" class=\"dataframe\">\n",
       "  <thead>\n",
       "    <tr style=\"text-align: right;\">\n",
       "      <th></th>\n",
       "      <th>CustomerID</th>\n",
       "      <th>NextPurchaseDay</th>\n",
       "      <th>Recency</th>\n",
       "      <th>RecencyCluster</th>\n",
       "      <th>Frequency</th>\n",
       "      <th>FrequencyCluster</th>\n",
       "    </tr>\n",
       "  </thead>\n",
       "  <tbody>\n",
       "    <tr>\n",
       "      <th>0</th>\n",
       "      <td>17850</td>\n",
       "      <td>9999.0</td>\n",
       "      <td>301</td>\n",
       "      <td>0</td>\n",
       "      <td>312</td>\n",
       "      <td>1</td>\n",
       "    </tr>\n",
       "    <tr>\n",
       "      <th>1</th>\n",
       "      <td>13047</td>\n",
       "      <td>25.0</td>\n",
       "      <td>31</td>\n",
       "      <td>2</td>\n",
       "      <td>196</td>\n",
       "      <td>2</td>\n",
       "    </tr>\n",
       "    <tr>\n",
       "      <th>2</th>\n",
       "      <td>12583</td>\n",
       "      <td>76.0</td>\n",
       "      <td>2</td>\n",
       "      <td>2</td>\n",
       "      <td>251</td>\n",
       "      <td>2</td>\n",
       "    </tr>\n",
       "    <tr>\n",
       "      <th>3</th>\n",
       "      <td>13748</td>\n",
       "      <td>0.0</td>\n",
       "      <td>95</td>\n",
       "      <td>1</td>\n",
       "      <td>28</td>\n",
       "      <td>2</td>\n",
       "    </tr>\n",
       "    <tr>\n",
       "      <th>4</th>\n",
       "      <td>15100</td>\n",
       "      <td>9999.0</td>\n",
       "      <td>329</td>\n",
       "      <td>0</td>\n",
       "      <td>6</td>\n",
       "      <td>2</td>\n",
       "    </tr>\n",
       "  </tbody>\n",
       "</table>\n",
       "</div>"
      ],
      "text/plain": [
       "   CustomerID  NextPurchaseDay  Recency  RecencyCluster  Frequency  \\\n",
       "0       17850           9999.0      301               0        312   \n",
       "1       13047             25.0       31               2        196   \n",
       "2       12583             76.0        2               2        251   \n",
       "3       13748              0.0       95               1         28   \n",
       "4       15100           9999.0      329               0          6   \n",
       "\n",
       "   FrequencyCluster  \n",
       "0                 1  \n",
       "1                 2  \n",
       "2                 2  \n",
       "3                 2  \n",
       "4                 2  "
      ]
     },
     "execution_count": 37,
     "metadata": {},
     "output_type": "execute_result"
    }
   ],
   "source": [
    "ctm_dt = order_cluster(ctm_dt, 'Frequency', 'FrequencyCluster', False)\n",
    "ctm_dt.head()"
   ]
  },
  {
   "cell_type": "code",
   "execution_count": 38,
   "metadata": {},
   "outputs": [
    {
     "data": {
      "text/html": [
       "<div>\n",
       "<style scoped>\n",
       "    .dataframe tbody tr th:only-of-type {\n",
       "        vertical-align: middle;\n",
       "    }\n",
       "\n",
       "    .dataframe tbody tr th {\n",
       "        vertical-align: top;\n",
       "    }\n",
       "\n",
       "    .dataframe thead th {\n",
       "        text-align: right;\n",
       "    }\n",
       "</style>\n",
       "<table border=\"1\" class=\"dataframe\">\n",
       "  <thead>\n",
       "    <tr style=\"text-align: right;\">\n",
       "      <th></th>\n",
       "      <th>count</th>\n",
       "      <th>mean</th>\n",
       "      <th>std</th>\n",
       "      <th>min</th>\n",
       "      <th>25%</th>\n",
       "      <th>50%</th>\n",
       "      <th>75%</th>\n",
       "      <th>max</th>\n",
       "    </tr>\n",
       "    <tr>\n",
       "      <th>FrequencyCluster</th>\n",
       "      <th></th>\n",
       "      <th></th>\n",
       "      <th></th>\n",
       "      <th></th>\n",
       "      <th></th>\n",
       "      <th></th>\n",
       "      <th></th>\n",
       "      <th></th>\n",
       "    </tr>\n",
       "  </thead>\n",
       "  <tbody>\n",
       "    <tr>\n",
       "      <th>0</th>\n",
       "      <td>4.0</td>\n",
       "      <td>5914.000000</td>\n",
       "      <td>1473.845537</td>\n",
       "      <td>4642.0</td>\n",
       "      <td>5006.5</td>\n",
       "      <td>5515.5</td>\n",
       "      <td>6423.0</td>\n",
       "      <td>7983.0</td>\n",
       "    </tr>\n",
       "    <tr>\n",
       "      <th>1</th>\n",
       "      <td>227.0</td>\n",
       "      <td>540.220264</td>\n",
       "      <td>342.662693</td>\n",
       "      <td>305.0</td>\n",
       "      <td>352.0</td>\n",
       "      <td>429.0</td>\n",
       "      <td>565.5</td>\n",
       "      <td>2782.0</td>\n",
       "    </tr>\n",
       "    <tr>\n",
       "      <th>2</th>\n",
       "      <td>3129.0</td>\n",
       "      <td>69.127197</td>\n",
       "      <td>68.013716</td>\n",
       "      <td>1.0</td>\n",
       "      <td>18.0</td>\n",
       "      <td>44.0</td>\n",
       "      <td>101.0</td>\n",
       "      <td>302.0</td>\n",
       "    </tr>\n",
       "  </tbody>\n",
       "</table>\n",
       "</div>"
      ],
      "text/plain": [
       "                   count         mean          std     min     25%     50%  \\\n",
       "FrequencyCluster                                                             \n",
       "0                    4.0  5914.000000  1473.845537  4642.0  5006.5  5515.5   \n",
       "1                  227.0   540.220264   342.662693   305.0   352.0   429.0   \n",
       "2                 3129.0    69.127197    68.013716     1.0    18.0    44.0   \n",
       "\n",
       "                     75%     max  \n",
       "FrequencyCluster                  \n",
       "0                 6423.0  7983.0  \n",
       "1                  565.5  2782.0  \n",
       "2                  101.0   302.0  "
      ]
     },
     "execution_count": 38,
     "metadata": {},
     "output_type": "execute_result"
    }
   ],
   "source": [
    "ctm_dt.groupby('FrequencyCluster')['Frequency'].describe()\n"
   ]
  },
  {
   "cell_type": "code",
   "execution_count": 39,
   "metadata": {},
   "outputs": [],
   "source": [
    "ctm_revenue = df.groupby('CustomerID').Monetary.sum().reset_index()"
   ]
  },
  {
   "cell_type": "code",
   "execution_count": 40,
   "metadata": {},
   "outputs": [
    {
     "data": {
      "text/html": [
       "<div>\n",
       "<style scoped>\n",
       "    .dataframe tbody tr th:only-of-type {\n",
       "        vertical-align: middle;\n",
       "    }\n",
       "\n",
       "    .dataframe tbody tr th {\n",
       "        vertical-align: top;\n",
       "    }\n",
       "\n",
       "    .dataframe thead th {\n",
       "        text-align: right;\n",
       "    }\n",
       "</style>\n",
       "<table border=\"1\" class=\"dataframe\">\n",
       "  <thead>\n",
       "    <tr style=\"text-align: right;\">\n",
       "      <th></th>\n",
       "      <th>CustomerID</th>\n",
       "      <th>NextPurchaseDay</th>\n",
       "      <th>Recency</th>\n",
       "      <th>RecencyCluster</th>\n",
       "      <th>Frequency</th>\n",
       "      <th>FrequencyCluster</th>\n",
       "      <th>Monetary</th>\n",
       "    </tr>\n",
       "  </thead>\n",
       "  <tbody>\n",
       "    <tr>\n",
       "      <th>0</th>\n",
       "      <td>17850</td>\n",
       "      <td>9999.0</td>\n",
       "      <td>301</td>\n",
       "      <td>0</td>\n",
       "      <td>312</td>\n",
       "      <td>1</td>\n",
       "      <td>1650168</td>\n",
       "    </tr>\n",
       "    <tr>\n",
       "      <th>1</th>\n",
       "      <td>13047</td>\n",
       "      <td>25.0</td>\n",
       "      <td>31</td>\n",
       "      <td>2</td>\n",
       "      <td>196</td>\n",
       "      <td>2</td>\n",
       "      <td>603484</td>\n",
       "    </tr>\n",
       "    <tr>\n",
       "      <th>2</th>\n",
       "      <td>12583</td>\n",
       "      <td>76.0</td>\n",
       "      <td>2</td>\n",
       "      <td>2</td>\n",
       "      <td>251</td>\n",
       "      <td>2</td>\n",
       "      <td>1803937</td>\n",
       "    </tr>\n",
       "    <tr>\n",
       "      <th>3</th>\n",
       "      <td>13748</td>\n",
       "      <td>0.0</td>\n",
       "      <td>95</td>\n",
       "      <td>1</td>\n",
       "      <td>28</td>\n",
       "      <td>2</td>\n",
       "      <td>26544</td>\n",
       "    </tr>\n",
       "    <tr>\n",
       "      <th>4</th>\n",
       "      <td>15100</td>\n",
       "      <td>9999.0</td>\n",
       "      <td>329</td>\n",
       "      <td>0</td>\n",
       "      <td>6</td>\n",
       "      <td>2</td>\n",
       "      <td>3810</td>\n",
       "    </tr>\n",
       "  </tbody>\n",
       "</table>\n",
       "</div>"
      ],
      "text/plain": [
       "   CustomerID  NextPurchaseDay  Recency  RecencyCluster  Frequency  \\\n",
       "0       17850           9999.0      301               0        312   \n",
       "1       13047             25.0       31               2        196   \n",
       "2       12583             76.0        2               2        251   \n",
       "3       13748              0.0       95               1         28   \n",
       "4       15100           9999.0      329               0          6   \n",
       "\n",
       "   FrequencyCluster  Monetary  \n",
       "0                 1   1650168  \n",
       "1                 2    603484  \n",
       "2                 2   1803937  \n",
       "3                 2     26544  \n",
       "4                 2      3810  "
      ]
     },
     "execution_count": 40,
     "metadata": {},
     "output_type": "execute_result"
    }
   ],
   "source": [
    "ctm_dt = pd.merge(ctm_dt, ctm_revenue, on='CustomerID')\n",
    "ctm_dt.head()"
   ]
  },
  {
   "cell_type": "code",
   "execution_count": 41,
   "metadata": {},
   "outputs": [],
   "source": [
    "kmeans = KMeans(n_clusters=number_of_clusters)\n",
    "kmeans.fit(ctm_dt[['Monetary']])\n",
    "ctm_dt['RevenueCluster'] = kmeans.predict(ctm_dt[['Monetary']])"
   ]
  },
  {
   "cell_type": "code",
   "execution_count": 42,
   "metadata": {},
   "outputs": [
    {
     "data": {
      "text/html": [
       "<div>\n",
       "<style scoped>\n",
       "    .dataframe tbody tr th:only-of-type {\n",
       "        vertical-align: middle;\n",
       "    }\n",
       "\n",
       "    .dataframe tbody tr th {\n",
       "        vertical-align: top;\n",
       "    }\n",
       "\n",
       "    .dataframe thead th {\n",
       "        text-align: right;\n",
       "    }\n",
       "</style>\n",
       "<table border=\"1\" class=\"dataframe\">\n",
       "  <thead>\n",
       "    <tr style=\"text-align: right;\">\n",
       "      <th></th>\n",
       "      <th>CustomerID</th>\n",
       "      <th>NextPurchaseDay</th>\n",
       "      <th>Recency</th>\n",
       "      <th>RecencyCluster</th>\n",
       "      <th>Frequency</th>\n",
       "      <th>FrequencyCluster</th>\n",
       "      <th>Monetary</th>\n",
       "      <th>RevenueCluster</th>\n",
       "    </tr>\n",
       "  </thead>\n",
       "  <tbody>\n",
       "    <tr>\n",
       "      <th>0</th>\n",
       "      <td>17850</td>\n",
       "      <td>9999.0</td>\n",
       "      <td>301</td>\n",
       "      <td>0</td>\n",
       "      <td>312</td>\n",
       "      <td>1</td>\n",
       "      <td>1650168</td>\n",
       "      <td>0</td>\n",
       "    </tr>\n",
       "    <tr>\n",
       "      <th>1</th>\n",
       "      <td>13047</td>\n",
       "      <td>25.0</td>\n",
       "      <td>31</td>\n",
       "      <td>2</td>\n",
       "      <td>196</td>\n",
       "      <td>2</td>\n",
       "      <td>603484</td>\n",
       "      <td>0</td>\n",
       "    </tr>\n",
       "    <tr>\n",
       "      <th>2</th>\n",
       "      <td>12583</td>\n",
       "      <td>76.0</td>\n",
       "      <td>2</td>\n",
       "      <td>2</td>\n",
       "      <td>251</td>\n",
       "      <td>2</td>\n",
       "      <td>1803937</td>\n",
       "      <td>0</td>\n",
       "    </tr>\n",
       "    <tr>\n",
       "      <th>3</th>\n",
       "      <td>13748</td>\n",
       "      <td>0.0</td>\n",
       "      <td>95</td>\n",
       "      <td>1</td>\n",
       "      <td>28</td>\n",
       "      <td>2</td>\n",
       "      <td>26544</td>\n",
       "      <td>0</td>\n",
       "    </tr>\n",
       "    <tr>\n",
       "      <th>4</th>\n",
       "      <td>15100</td>\n",
       "      <td>9999.0</td>\n",
       "      <td>329</td>\n",
       "      <td>0</td>\n",
       "      <td>6</td>\n",
       "      <td>2</td>\n",
       "      <td>3810</td>\n",
       "      <td>0</td>\n",
       "    </tr>\n",
       "  </tbody>\n",
       "</table>\n",
       "</div>"
      ],
      "text/plain": [
       "   CustomerID  NextPurchaseDay  Recency  RecencyCluster  Frequency  \\\n",
       "0       17850           9999.0      301               0        312   \n",
       "1       13047             25.0       31               2        196   \n",
       "2       12583             76.0        2               2        251   \n",
       "3       13748              0.0       95               1         28   \n",
       "4       15100           9999.0      329               0          6   \n",
       "\n",
       "   FrequencyCluster  Monetary  RevenueCluster  \n",
       "0                 1   1650168               0  \n",
       "1                 2    603484               0  \n",
       "2                 2   1803937               0  \n",
       "3                 2     26544               0  \n",
       "4                 2      3810               0  "
      ]
     },
     "execution_count": 42,
     "metadata": {},
     "output_type": "execute_result"
    }
   ],
   "source": [
    "ctm_dt = order_cluster(ctm_dt, 'Monetary', 'RevenueCluster', True)\n",
    "ctm_dt.head()"
   ]
  },
  {
   "cell_type": "code",
   "execution_count": 43,
   "metadata": {},
   "outputs": [
    {
     "data": {
      "text/html": [
       "<div>\n",
       "<style scoped>\n",
       "    .dataframe tbody tr th:only-of-type {\n",
       "        vertical-align: middle;\n",
       "    }\n",
       "\n",
       "    .dataframe tbody tr th {\n",
       "        vertical-align: top;\n",
       "    }\n",
       "\n",
       "    .dataframe thead th {\n",
       "        text-align: right;\n",
       "    }\n",
       "</style>\n",
       "<table border=\"1\" class=\"dataframe\">\n",
       "  <thead>\n",
       "    <tr style=\"text-align: right;\">\n",
       "      <th></th>\n",
       "      <th>count</th>\n",
       "      <th>mean</th>\n",
       "      <th>std</th>\n",
       "      <th>min</th>\n",
       "      <th>25%</th>\n",
       "      <th>50%</th>\n",
       "      <th>75%</th>\n",
       "      <th>max</th>\n",
       "    </tr>\n",
       "    <tr>\n",
       "      <th>RevenueCluster</th>\n",
       "      <th></th>\n",
       "      <th></th>\n",
       "      <th></th>\n",
       "      <th></th>\n",
       "      <th></th>\n",
       "      <th></th>\n",
       "      <th></th>\n",
       "      <th></th>\n",
       "    </tr>\n",
       "  </thead>\n",
       "  <tbody>\n",
       "    <tr>\n",
       "      <th>0</th>\n",
       "      <td>3348.0</td>\n",
       "      <td>4.590459e+05</td>\n",
       "      <td>2.105114e+06</td>\n",
       "      <td>-17475.0</td>\n",
       "      <td>6.681750e+03</td>\n",
       "      <td>40614.0</td>\n",
       "      <td>2.238040e+05</td>\n",
       "      <td>65806182.0</td>\n",
       "    </tr>\n",
       "    <tr>\n",
       "      <th>1</th>\n",
       "      <td>10.0</td>\n",
       "      <td>1.551027e+08</td>\n",
       "      <td>8.425217e+07</td>\n",
       "      <td>83413680.0</td>\n",
       "      <td>9.883499e+07</td>\n",
       "      <td>122994939.0</td>\n",
       "      <td>1.577571e+08</td>\n",
       "      <td>322042203.0</td>\n",
       "    </tr>\n",
       "    <tr>\n",
       "      <th>2</th>\n",
       "      <td>2.0</td>\n",
       "      <td>6.826565e+08</td>\n",
       "      <td>1.413109e+08</td>\n",
       "      <td>582734565.0</td>\n",
       "      <td>6.326955e+08</td>\n",
       "      <td>682656492.0</td>\n",
       "      <td>7.326175e+08</td>\n",
       "      <td>782578419.0</td>\n",
       "    </tr>\n",
       "  </tbody>\n",
       "</table>\n",
       "</div>"
      ],
      "text/plain": [
       "                 count          mean           std          min           25%  \\\n",
       "RevenueCluster                                                                  \n",
       "0               3348.0  4.590459e+05  2.105114e+06     -17475.0  6.681750e+03   \n",
       "1                 10.0  1.551027e+08  8.425217e+07   83413680.0  9.883499e+07   \n",
       "2                  2.0  6.826565e+08  1.413109e+08  582734565.0  6.326955e+08   \n",
       "\n",
       "                        50%           75%          max  \n",
       "RevenueCluster                                          \n",
       "0                   40614.0  2.238040e+05   65806182.0  \n",
       "1               122994939.0  1.577571e+08  322042203.0  \n",
       "2               682656492.0  7.326175e+08  782578419.0  "
      ]
     },
     "execution_count": 43,
     "metadata": {},
     "output_type": "execute_result"
    }
   ],
   "source": [
    "ctm_dt.groupby('RevenueCluster')['Monetary'].describe()\n"
   ]
  },
  {
   "cell_type": "code",
   "execution_count": 44,
   "metadata": {},
   "outputs": [
    {
     "data": {
      "text/html": [
       "<div>\n",
       "<style scoped>\n",
       "    .dataframe tbody tr th:only-of-type {\n",
       "        vertical-align: middle;\n",
       "    }\n",
       "\n",
       "    .dataframe tbody tr th {\n",
       "        vertical-align: top;\n",
       "    }\n",
       "\n",
       "    .dataframe thead th {\n",
       "        text-align: right;\n",
       "    }\n",
       "</style>\n",
       "<table border=\"1\" class=\"dataframe\">\n",
       "  <thead>\n",
       "    <tr style=\"text-align: right;\">\n",
       "      <th></th>\n",
       "      <th>Recency</th>\n",
       "      <th>Frequency</th>\n",
       "      <th>Monetary</th>\n",
       "    </tr>\n",
       "    <tr>\n",
       "      <th>OverallScore</th>\n",
       "      <th></th>\n",
       "      <th></th>\n",
       "      <th></th>\n",
       "    </tr>\n",
       "  </thead>\n",
       "  <tbody>\n",
       "    <tr>\n",
       "      <th>1</th>\n",
       "      <td>301.000000</td>\n",
       "      <td>312.000000</td>\n",
       "      <td>1.650168e+06</td>\n",
       "    </tr>\n",
       "    <tr>\n",
       "      <th>2</th>\n",
       "      <td>293.332810</td>\n",
       "      <td>25.153846</td>\n",
       "      <td>2.218895e+04</td>\n",
       "    </tr>\n",
       "    <tr>\n",
       "      <th>3</th>\n",
       "      <td>122.809524</td>\n",
       "      <td>156.879960</td>\n",
       "      <td>1.722245e+06</td>\n",
       "    </tr>\n",
       "    <tr>\n",
       "      <th>4</th>\n",
       "      <td>29.545826</td>\n",
       "      <td>108.598949</td>\n",
       "      <td>1.236826e+06</td>\n",
       "    </tr>\n",
       "    <tr>\n",
       "      <th>5</th>\n",
       "      <td>1.000000</td>\n",
       "      <td>2085.000000</td>\n",
       "      <td>5.827346e+08</td>\n",
       "    </tr>\n",
       "  </tbody>\n",
       "</table>\n",
       "</div>"
      ],
      "text/plain": [
       "                 Recency    Frequency      Monetary\n",
       "OverallScore                                       \n",
       "1             301.000000   312.000000  1.650168e+06\n",
       "2             293.332810    25.153846  2.218895e+04\n",
       "3             122.809524   156.879960  1.722245e+06\n",
       "4              29.545826   108.598949  1.236826e+06\n",
       "5               1.000000  2085.000000  5.827346e+08"
      ]
     },
     "execution_count": 44,
     "metadata": {},
     "output_type": "execute_result"
    }
   ],
   "source": [
    "ctm_dt['OverallScore'] = ctm_dt['RecencyCluster'] + ctm_dt['FrequencyCluster'] + ctm_dt['RevenueCluster']\n",
    "ctm_dt.groupby('OverallScore')[['Recency', 'Frequency', 'Monetary']].mean()\n"
   ]
  },
  {
   "cell_type": "code",
   "execution_count": 45,
   "metadata": {},
   "outputs": [],
   "source": [
    "ctm_dt['Segment'] = 'Mid-Value'\n",
    "ctm_dt.loc[ctm_dt['OverallScore'] >= 2, 'Segment'] = 'High-Value'\n",
    "ctm_dt.loc[ctm_dt['OverallScore'] >= 4, 'Segment'] = 'Low-Value'"
   ]
  },
  {
   "cell_type": "code",
   "execution_count": 46,
   "metadata": {},
   "outputs": [
    {
     "data": {
      "text/html": [
       "<div>\n",
       "<style scoped>\n",
       "    .dataframe tbody tr th:only-of-type {\n",
       "        vertical-align: middle;\n",
       "    }\n",
       "\n",
       "    .dataframe tbody tr th {\n",
       "        vertical-align: top;\n",
       "    }\n",
       "\n",
       "    .dataframe thead th {\n",
       "        text-align: right;\n",
       "    }\n",
       "</style>\n",
       "<table border=\"1\" class=\"dataframe\">\n",
       "  <thead>\n",
       "    <tr style=\"text-align: right;\">\n",
       "      <th></th>\n",
       "      <th>CustomerID</th>\n",
       "      <th>NextPurchaseDay</th>\n",
       "      <th>Recency</th>\n",
       "      <th>RecencyCluster</th>\n",
       "      <th>Frequency</th>\n",
       "      <th>FrequencyCluster</th>\n",
       "      <th>Monetary</th>\n",
       "      <th>RevenueCluster</th>\n",
       "      <th>OverallScore</th>\n",
       "      <th>Segment</th>\n",
       "    </tr>\n",
       "  </thead>\n",
       "  <tbody>\n",
       "    <tr>\n",
       "      <th>0</th>\n",
       "      <td>17850</td>\n",
       "      <td>9999.0</td>\n",
       "      <td>301</td>\n",
       "      <td>0</td>\n",
       "      <td>312</td>\n",
       "      <td>1</td>\n",
       "      <td>1650168</td>\n",
       "      <td>0</td>\n",
       "      <td>1</td>\n",
       "      <td>Mid-Value</td>\n",
       "    </tr>\n",
       "    <tr>\n",
       "      <th>1</th>\n",
       "      <td>13047</td>\n",
       "      <td>25.0</td>\n",
       "      <td>31</td>\n",
       "      <td>2</td>\n",
       "      <td>196</td>\n",
       "      <td>2</td>\n",
       "      <td>603484</td>\n",
       "      <td>0</td>\n",
       "      <td>4</td>\n",
       "      <td>Low-Value</td>\n",
       "    </tr>\n",
       "    <tr>\n",
       "      <th>2</th>\n",
       "      <td>12583</td>\n",
       "      <td>76.0</td>\n",
       "      <td>2</td>\n",
       "      <td>2</td>\n",
       "      <td>251</td>\n",
       "      <td>2</td>\n",
       "      <td>1803937</td>\n",
       "      <td>0</td>\n",
       "      <td>4</td>\n",
       "      <td>Low-Value</td>\n",
       "    </tr>\n",
       "    <tr>\n",
       "      <th>3</th>\n",
       "      <td>13748</td>\n",
       "      <td>0.0</td>\n",
       "      <td>95</td>\n",
       "      <td>1</td>\n",
       "      <td>28</td>\n",
       "      <td>2</td>\n",
       "      <td>26544</td>\n",
       "      <td>0</td>\n",
       "      <td>3</td>\n",
       "      <td>High-Value</td>\n",
       "    </tr>\n",
       "    <tr>\n",
       "      <th>4</th>\n",
       "      <td>15100</td>\n",
       "      <td>9999.0</td>\n",
       "      <td>329</td>\n",
       "      <td>0</td>\n",
       "      <td>6</td>\n",
       "      <td>2</td>\n",
       "      <td>3810</td>\n",
       "      <td>0</td>\n",
       "      <td>2</td>\n",
       "      <td>High-Value</td>\n",
       "    </tr>\n",
       "  </tbody>\n",
       "</table>\n",
       "</div>"
      ],
      "text/plain": [
       "   CustomerID  NextPurchaseDay  Recency  RecencyCluster  Frequency  \\\n",
       "0       17850           9999.0      301               0        312   \n",
       "1       13047             25.0       31               2        196   \n",
       "2       12583             76.0        2               2        251   \n",
       "3       13748              0.0       95               1         28   \n",
       "4       15100           9999.0      329               0          6   \n",
       "\n",
       "   FrequencyCluster  Monetary  RevenueCluster  OverallScore     Segment  \n",
       "0                 1   1650168               0             1   Mid-Value  \n",
       "1                 2    603484               0             4   Low-Value  \n",
       "2                 2   1803937               0             4   Low-Value  \n",
       "3                 2     26544               0             3  High-Value  \n",
       "4                 2      3810               0             2  High-Value  "
      ]
     },
     "execution_count": 46,
     "metadata": {},
     "output_type": "execute_result"
    }
   ],
   "source": [
    "ctm_dt.head()\n"
   ]
  },
  {
   "cell_type": "code",
   "execution_count": 47,
   "metadata": {},
   "outputs": [
    {
     "data": {
      "text/html": [
       "<div>\n",
       "<style scoped>\n",
       "    .dataframe tbody tr th:only-of-type {\n",
       "        vertical-align: middle;\n",
       "    }\n",
       "\n",
       "    .dataframe tbody tr th {\n",
       "        vertical-align: top;\n",
       "    }\n",
       "\n",
       "    .dataframe thead th {\n",
       "        text-align: right;\n",
       "    }\n",
       "</style>\n",
       "<table border=\"1\" class=\"dataframe\">\n",
       "  <thead>\n",
       "    <tr style=\"text-align: right;\">\n",
       "      <th></th>\n",
       "      <th>CustomerID</th>\n",
       "      <th>NextPurchaseDay</th>\n",
       "      <th>Recency</th>\n",
       "      <th>RecencyCluster</th>\n",
       "      <th>Frequency</th>\n",
       "      <th>FrequencyCluster</th>\n",
       "      <th>Monetary</th>\n",
       "      <th>RevenueCluster</th>\n",
       "      <th>OverallScore</th>\n",
       "      <th>Segment_High-Value</th>\n",
       "      <th>Segment_Low-Value</th>\n",
       "      <th>Segment_Mid-Value</th>\n",
       "    </tr>\n",
       "  </thead>\n",
       "  <tbody>\n",
       "    <tr>\n",
       "      <th>0</th>\n",
       "      <td>17850</td>\n",
       "      <td>9999</td>\n",
       "      <td>301</td>\n",
       "      <td>0</td>\n",
       "      <td>312</td>\n",
       "      <td>1</td>\n",
       "      <td>1650168</td>\n",
       "      <td>0</td>\n",
       "      <td>1</td>\n",
       "      <td>0</td>\n",
       "      <td>0</td>\n",
       "      <td>1</td>\n",
       "    </tr>\n",
       "    <tr>\n",
       "      <th>1</th>\n",
       "      <td>13047</td>\n",
       "      <td>25</td>\n",
       "      <td>31</td>\n",
       "      <td>2</td>\n",
       "      <td>196</td>\n",
       "      <td>2</td>\n",
       "      <td>603484</td>\n",
       "      <td>0</td>\n",
       "      <td>4</td>\n",
       "      <td>0</td>\n",
       "      <td>1</td>\n",
       "      <td>0</td>\n",
       "    </tr>\n",
       "    <tr>\n",
       "      <th>2</th>\n",
       "      <td>12583</td>\n",
       "      <td>76</td>\n",
       "      <td>2</td>\n",
       "      <td>2</td>\n",
       "      <td>251</td>\n",
       "      <td>2</td>\n",
       "      <td>1803937</td>\n",
       "      <td>0</td>\n",
       "      <td>4</td>\n",
       "      <td>0</td>\n",
       "      <td>1</td>\n",
       "      <td>0</td>\n",
       "    </tr>\n",
       "    <tr>\n",
       "      <th>3</th>\n",
       "      <td>13748</td>\n",
       "      <td>0</td>\n",
       "      <td>95</td>\n",
       "      <td>1</td>\n",
       "      <td>28</td>\n",
       "      <td>2</td>\n",
       "      <td>26544</td>\n",
       "      <td>0</td>\n",
       "      <td>3</td>\n",
       "      <td>1</td>\n",
       "      <td>0</td>\n",
       "      <td>0</td>\n",
       "    </tr>\n",
       "    <tr>\n",
       "      <th>4</th>\n",
       "      <td>15100</td>\n",
       "      <td>9999</td>\n",
       "      <td>329</td>\n",
       "      <td>0</td>\n",
       "      <td>6</td>\n",
       "      <td>2</td>\n",
       "      <td>3810</td>\n",
       "      <td>0</td>\n",
       "      <td>2</td>\n",
       "      <td>1</td>\n",
       "      <td>0</td>\n",
       "      <td>0</td>\n",
       "    </tr>\n",
       "  </tbody>\n",
       "</table>\n",
       "</div>"
      ],
      "text/plain": [
       "   CustomerID  NextPurchaseDay  Recency  RecencyCluster  Frequency  \\\n",
       "0       17850             9999      301               0        312   \n",
       "1       13047               25       31               2        196   \n",
       "2       12583               76        2               2        251   \n",
       "3       13748                0       95               1         28   \n",
       "4       15100             9999      329               0          6   \n",
       "\n",
       "   FrequencyCluster  Monetary  RevenueCluster  OverallScore  \\\n",
       "0                 1   1650168               0             1   \n",
       "1                 2    603484               0             4   \n",
       "2                 2   1803937               0             4   \n",
       "3                 2     26544               0             3   \n",
       "4                 2      3810               0             2   \n",
       "\n",
       "   Segment_High-Value  Segment_Low-Value  Segment_Mid-Value  \n",
       "0                   0                  0                  1  \n",
       "1                   0                  1                  0  \n",
       "2                   0                  1                  0  \n",
       "3                   1                  0                  0  \n",
       "4                   1                  0                  0  "
      ]
     },
     "execution_count": 47,
     "metadata": {},
     "output_type": "execute_result"
    }
   ],
   "source": [
    "ctm_class = ctm_dt.copy()\n",
    "ctm_class = pd.get_dummies(ctm_class).astype(int)\n",
    "ctm_class.head()"
   ]
  },
  {
   "cell_type": "code",
   "execution_count": 48,
   "metadata": {},
   "outputs": [
    {
     "data": {
      "text/html": [
       "<div>\n",
       "<style scoped>\n",
       "    .dataframe tbody tr th:only-of-type {\n",
       "        vertical-align: middle;\n",
       "    }\n",
       "\n",
       "    .dataframe tbody tr th {\n",
       "        vertical-align: top;\n",
       "    }\n",
       "\n",
       "    .dataframe thead th {\n",
       "        text-align: right;\n",
       "    }\n",
       "</style>\n",
       "<table border=\"1\" class=\"dataframe\">\n",
       "  <thead>\n",
       "    <tr style=\"text-align: right;\">\n",
       "      <th></th>\n",
       "      <th>CustomerID</th>\n",
       "      <th>NextPurchaseDay</th>\n",
       "      <th>Recency</th>\n",
       "      <th>RecencyCluster</th>\n",
       "      <th>Frequency</th>\n",
       "      <th>FrequencyCluster</th>\n",
       "      <th>Monetary</th>\n",
       "      <th>RevenueCluster</th>\n",
       "      <th>OverallScore</th>\n",
       "      <th>Segment_High-Value</th>\n",
       "      <th>Segment_Low-Value</th>\n",
       "      <th>Segment_Mid-Value</th>\n",
       "      <th>NextPurchaseDayRange</th>\n",
       "    </tr>\n",
       "  </thead>\n",
       "  <tbody>\n",
       "    <tr>\n",
       "      <th>0</th>\n",
       "      <td>17850</td>\n",
       "      <td>9999</td>\n",
       "      <td>301</td>\n",
       "      <td>0</td>\n",
       "      <td>312</td>\n",
       "      <td>1</td>\n",
       "      <td>1650168</td>\n",
       "      <td>0</td>\n",
       "      <td>1</td>\n",
       "      <td>0</td>\n",
       "      <td>0</td>\n",
       "      <td>1</td>\n",
       "      <td>0</td>\n",
       "    </tr>\n",
       "    <tr>\n",
       "      <th>1</th>\n",
       "      <td>13047</td>\n",
       "      <td>25</td>\n",
       "      <td>31</td>\n",
       "      <td>2</td>\n",
       "      <td>196</td>\n",
       "      <td>2</td>\n",
       "      <td>603484</td>\n",
       "      <td>0</td>\n",
       "      <td>4</td>\n",
       "      <td>0</td>\n",
       "      <td>1</td>\n",
       "      <td>0</td>\n",
       "      <td>1</td>\n",
       "    </tr>\n",
       "    <tr>\n",
       "      <th>2</th>\n",
       "      <td>12583</td>\n",
       "      <td>76</td>\n",
       "      <td>2</td>\n",
       "      <td>2</td>\n",
       "      <td>251</td>\n",
       "      <td>2</td>\n",
       "      <td>1803937</td>\n",
       "      <td>0</td>\n",
       "      <td>4</td>\n",
       "      <td>0</td>\n",
       "      <td>1</td>\n",
       "      <td>0</td>\n",
       "      <td>1</td>\n",
       "    </tr>\n",
       "    <tr>\n",
       "      <th>3</th>\n",
       "      <td>13748</td>\n",
       "      <td>0</td>\n",
       "      <td>95</td>\n",
       "      <td>1</td>\n",
       "      <td>28</td>\n",
       "      <td>2</td>\n",
       "      <td>26544</td>\n",
       "      <td>0</td>\n",
       "      <td>3</td>\n",
       "      <td>1</td>\n",
       "      <td>0</td>\n",
       "      <td>0</td>\n",
       "      <td>1</td>\n",
       "    </tr>\n",
       "    <tr>\n",
       "      <th>4</th>\n",
       "      <td>15100</td>\n",
       "      <td>9999</td>\n",
       "      <td>329</td>\n",
       "      <td>0</td>\n",
       "      <td>6</td>\n",
       "      <td>2</td>\n",
       "      <td>3810</td>\n",
       "      <td>0</td>\n",
       "      <td>2</td>\n",
       "      <td>1</td>\n",
       "      <td>0</td>\n",
       "      <td>0</td>\n",
       "      <td>0</td>\n",
       "    </tr>\n",
       "  </tbody>\n",
       "</table>\n",
       "</div>"
      ],
      "text/plain": [
       "   CustomerID  NextPurchaseDay  Recency  RecencyCluster  Frequency  \\\n",
       "0       17850             9999      301               0        312   \n",
       "1       13047               25       31               2        196   \n",
       "2       12583               76        2               2        251   \n",
       "3       13748                0       95               1         28   \n",
       "4       15100             9999      329               0          6   \n",
       "\n",
       "   FrequencyCluster  Monetary  RevenueCluster  OverallScore  \\\n",
       "0                 1   1650168               0             1   \n",
       "1                 2    603484               0             4   \n",
       "2                 2   1803937               0             4   \n",
       "3                 2     26544               0             3   \n",
       "4                 2      3810               0             2   \n",
       "\n",
       "   Segment_High-Value  Segment_Low-Value  Segment_Mid-Value  \\\n",
       "0                   0                  0                  1   \n",
       "1                   0                  1                  0   \n",
       "2                   0                  1                  0   \n",
       "3                   1                  0                  0   \n",
       "4                   1                  0                  0   \n",
       "\n",
       "   NextPurchaseDayRange  \n",
       "0                     0  \n",
       "1                     1  \n",
       "2                     1  \n",
       "3                     1  \n",
       "4                     0  "
      ]
     },
     "execution_count": 48,
     "metadata": {},
     "output_type": "execute_result"
    }
   ],
   "source": [
    "ctm_class['NextPurchaseDayRange'] = 1  ## less than 3 months\n",
    "ctm_class.loc[ctm_class.NextPurchaseDay>90,'NextPurchaseDayRange'] = 0 # more than 3 months\n",
    "ctm_class.head()"
   ]
  },
  {
   "cell_type": "code",
   "execution_count": 49,
   "metadata": {},
   "outputs": [
    {
     "data": {
      "text/html": [
       "<div>\n",
       "<style scoped>\n",
       "    .dataframe tbody tr th:only-of-type {\n",
       "        vertical-align: middle;\n",
       "    }\n",
       "\n",
       "    .dataframe tbody tr th {\n",
       "        vertical-align: top;\n",
       "    }\n",
       "\n",
       "    .dataframe thead th {\n",
       "        text-align: right;\n",
       "    }\n",
       "</style>\n",
       "<table border=\"1\" class=\"dataframe\">\n",
       "  <thead>\n",
       "    <tr style=\"text-align: right;\">\n",
       "      <th></th>\n",
       "      <th>MinCorrelationCoeff</th>\n",
       "      <th>MaxCorrelationCoeff</th>\n",
       "    </tr>\n",
       "  </thead>\n",
       "  <tbody>\n",
       "    <tr>\n",
       "      <th>CustomerID</th>\n",
       "      <td>-0.028179</td>\n",
       "      <td>0.032473</td>\n",
       "    </tr>\n",
       "    <tr>\n",
       "      <th>NextPurchaseDay</th>\n",
       "      <td>-0.948463</td>\n",
       "      <td>0.809199</td>\n",
       "    </tr>\n",
       "    <tr>\n",
       "      <th>Recency</th>\n",
       "      <td>-0.953354</td>\n",
       "      <td>0.809199</td>\n",
       "    </tr>\n",
       "    <tr>\n",
       "      <th>RecencyCluster</th>\n",
       "      <td>-0.953354</td>\n",
       "      <td>0.948952</td>\n",
       "    </tr>\n",
       "    <tr>\n",
       "      <th>Frequency</th>\n",
       "      <td>-0.634064</td>\n",
       "      <td>0.702254</td>\n",
       "    </tr>\n",
       "    <tr>\n",
       "      <th>FrequencyCluster</th>\n",
       "      <td>-0.634064</td>\n",
       "      <td>0.251921</td>\n",
       "    </tr>\n",
       "    <tr>\n",
       "      <th>Monetary</th>\n",
       "      <td>-0.300606</td>\n",
       "      <td>0.894458</td>\n",
       "    </tr>\n",
       "    <tr>\n",
       "      <th>RevenueCluster</th>\n",
       "      <td>-0.282649</td>\n",
       "      <td>0.894458</td>\n",
       "    </tr>\n",
       "    <tr>\n",
       "      <th>OverallScore</th>\n",
       "      <td>-0.895081</td>\n",
       "      <td>0.948952</td>\n",
       "    </tr>\n",
       "    <tr>\n",
       "      <th>Segment_High-Value</th>\n",
       "      <td>-0.999405</td>\n",
       "      <td>0.795410</td>\n",
       "    </tr>\n",
       "    <tr>\n",
       "      <th>Segment_Low-Value</th>\n",
       "      <td>-0.999405</td>\n",
       "      <td>0.896854</td>\n",
       "    </tr>\n",
       "    <tr>\n",
       "      <th>Segment_Mid-Value</th>\n",
       "      <td>-0.061799</td>\n",
       "      <td>0.030697</td>\n",
       "    </tr>\n",
       "    <tr>\n",
       "      <th>NextPurchaseDayRange</th>\n",
       "      <td>-0.948463</td>\n",
       "      <td>0.807113</td>\n",
       "    </tr>\n",
       "  </tbody>\n",
       "</table>\n",
       "</div>"
      ],
      "text/plain": [
       "                      MinCorrelationCoeff  MaxCorrelationCoeff\n",
       "CustomerID                      -0.028179             0.032473\n",
       "NextPurchaseDay                 -0.948463             0.809199\n",
       "Recency                         -0.953354             0.809199\n",
       "RecencyCluster                  -0.953354             0.948952\n",
       "Frequency                       -0.634064             0.702254\n",
       "FrequencyCluster                -0.634064             0.251921\n",
       "Monetary                        -0.300606             0.894458\n",
       "RevenueCluster                  -0.282649             0.894458\n",
       "OverallScore                    -0.895081             0.948952\n",
       "Segment_High-Value              -0.999405             0.795410\n",
       "Segment_Low-Value               -0.999405             0.896854\n",
       "Segment_Mid-Value               -0.061799             0.030697\n",
       "NextPurchaseDayRange            -0.948463             0.807113"
      ]
     },
     "execution_count": 49,
     "metadata": {},
     "output_type": "execute_result"
    }
   ],
   "source": [
    "corr_matrix = ctm_class[ctm_class.columns].corr()\n",
    "corr_df = pd.DataFrame(corr_matrix.min())\n",
    "corr_df.columns = ['MinCorrelationCoeff']\n",
    "corr_df['MaxCorrelationCoeff'] = corr_matrix[corr_matrix < 1].max()\n",
    "corr_df"
   ]
  },
  {
   "cell_type": "code",
   "execution_count": 73,
   "metadata": {},
   "outputs": [
    {
     "data": {
      "image/png": "[encoded data removed]",
      "text/plain": [
       "<Figure size 2000x2000 with 2 Axes>"
      ]
     },
     "metadata": {},
     "output_type": "display_data"
    }
   ],
   "source": [
    "plt.figure(figsize = (20, 20))\n",
    "sns.heatmap(corr_matrix, annot = True, linewidths=0.2, fmt=\".2f\");"
   ]
  },
  {
   "cell_type": "code",
   "execution_count": 51,
   "metadata": {},
   "outputs": [],
   "source": [
    "ctm_class = ctm_class.drop('NextPurchaseDay', axis=1)\n"
   ]
  },
  {
   "cell_type": "code",
   "execution_count": 52,
   "metadata": {},
   "outputs": [],
   "source": [
    "X, y = ctm_class.drop('NextPurchaseDayRange', axis=1), ctm_class.NextPurchaseDayRange\n",
    "X_train, X_test, y_train, y_test = train_test_split(X, y, test_size=0.2, random_state=None, shuffle=True)"
   ]
  },
  {
   "cell_type": "code",
   "execution_count": 53,
   "metadata": {},
   "outputs": [],
   "source": [
    "models = []\n",
    "models.append((\"LogisticRegression\", LogisticRegression()))\n",
    "models.append((\"GaussianNB\", GaussianNB()))\n",
    "models.append((\"RandomForestClassifier\", RandomForestClassifier()))\n",
    "models.append((\"SVC\", SVC()))\n",
    "models.append((\"DecisionTreeClassifier\", DecisionTreeClassifier()))\n",
    "models.append((\"xgb.XGBClassifier\", xgb.XGBClassifier(eval_metric='mlogloss')))\n",
    "models.append((\"KNeighborsClassifier\", KNeighborsClassifier()))"
   ]
  },
  {
   "cell_type": "code",
   "execution_count": 54,
   "metadata": {},
   "outputs": [
    {
     "name": "stdout",
     "output_type": "stream",
     "text": [
      "Note: you may need to restart the kernel to use updated packages.\n"
     ]
    },
    {
     "name": "stderr",
     "output_type": "stream",
     "text": [
      "ERROR: Could not find a version that satisfies the requirement multiscorer (from versions: none)\n",
      "ERROR: No matching distribution found for multiscorer\n"
     ]
    }
   ],
   "source": [
    "pip install multiscorer\n"
   ]
  },
  {
   "cell_type": "code",
   "execution_count": 55,
   "metadata": {},
   "outputs": [],
   "source": [
    "from multiscorer import MultiScorer\n"
   ]
  },
  {
   "cell_type": "code",
   "execution_count": 56,
   "metadata": {},
   "outputs": [
    {
     "data": {
      "text/html": [
       "<div>\n",
       "<style scoped>\n",
       "    .dataframe tbody tr th:only-of-type {\n",
       "        vertical-align: middle;\n",
       "    }\n",
       "\n",
       "    .dataframe tbody tr th {\n",
       "        vertical-align: top;\n",
       "    }\n",
       "\n",
       "    .dataframe thead th {\n",
       "        text-align: right;\n",
       "    }\n",
       "</style>\n",
       "<table border=\"1\" class=\"dataframe\">\n",
       "  <thead>\n",
       "    <tr style=\"text-align: right;\">\n",
       "      <th></th>\n",
       "      <th>accuracy</th>\n",
       "      <th>f1_score</th>\n",
       "      <th>recall</th>\n",
       "      <th>precision</th>\n",
       "      <th>time</th>\n",
       "    </tr>\n",
       "    <tr>\n",
       "      <th>model_name</th>\n",
       "      <th></th>\n",
       "      <th></th>\n",
       "      <th></th>\n",
       "      <th></th>\n",
       "      <th></th>\n",
       "    </tr>\n",
       "  </thead>\n",
       "  <tbody>\n",
       "    <tr>\n",
       "      <th>xgb.XGBClassifier</th>\n",
       "      <td>0.741691</td>\n",
       "      <td>0.651869</td>\n",
       "      <td>0.723184</td>\n",
       "      <td>0.777036</td>\n",
       "      <td>2.282423</td>\n",
       "    </tr>\n",
       "    <tr>\n",
       "      <th>KNeighborsClassifier</th>\n",
       "      <td>0.741656</td>\n",
       "      <td>0.664364</td>\n",
       "      <td>0.725428</td>\n",
       "      <td>0.771795</td>\n",
       "      <td>0.110600</td>\n",
       "    </tr>\n",
       "    <tr>\n",
       "      <th>DecisionTreeClassifier</th>\n",
       "      <td>0.700149</td>\n",
       "      <td>0.592434</td>\n",
       "      <td>0.678148</td>\n",
       "      <td>0.742444</td>\n",
       "      <td>0.031733</td>\n",
       "    </tr>\n",
       "    <tr>\n",
       "      <th>RandomForestClassifier</th>\n",
       "      <td>0.675347</td>\n",
       "      <td>0.556616</td>\n",
       "      <td>0.650782</td>\n",
       "      <td>0.706280</td>\n",
       "      <td>0.704382</td>\n",
       "    </tr>\n",
       "    <tr>\n",
       "      <th>SVC</th>\n",
       "      <td>0.641183</td>\n",
       "      <td>0.506610</td>\n",
       "      <td>0.613644</td>\n",
       "      <td>0.694175</td>\n",
       "      <td>0.443647</td>\n",
       "    </tr>\n",
       "    <tr>\n",
       "      <th>LogisticRegression</th>\n",
       "      <td>0.538690</td>\n",
       "      <td>0.357304</td>\n",
       "      <td>0.502285</td>\n",
       "      <td>0.643986</td>\n",
       "      <td>0.077116</td>\n",
       "    </tr>\n",
       "    <tr>\n",
       "      <th>GaussianNB</th>\n",
       "      <td>0.537388</td>\n",
       "      <td>0.359492</td>\n",
       "      <td>0.501293</td>\n",
       "      <td>0.583160</td>\n",
       "      <td>0.018074</td>\n",
       "    </tr>\n",
       "  </tbody>\n",
       "</table>\n",
       "</div>"
      ],
      "text/plain": [
       "                        accuracy  f1_score    recall  precision      time\n",
       "model_name                                                               \n",
       "xgb.XGBClassifier       0.741691  0.651869  0.723184   0.777036  2.282423\n",
       "KNeighborsClassifier    0.741656  0.664364  0.725428   0.771795  0.110600\n",
       "DecisionTreeClassifier  0.700149  0.592434  0.678148   0.742444  0.031733\n",
       "RandomForestClassifier  0.675347  0.556616  0.650782   0.706280  0.704382\n",
       "SVC                     0.641183  0.506610  0.613644   0.694175  0.443647\n",
       "LogisticRegression      0.538690  0.357304  0.502285   0.643986  0.077116\n",
       "GaussianNB              0.537388  0.359492  0.501293   0.583160  0.018074"
      ]
     },
     "execution_count": 56,
     "metadata": {},
     "output_type": "execute_result"
    }
   ],
   "source": [
    "scorer = MultiScorer({'accuracy'  : (accuracy_score , {}), \n",
    "                      'f1_score'  : (f1_score       , {'pos_label': 3, 'average':'macro'}), \n",
    "                      'recall'    : (recall_score   , {'pos_label': 3, 'average':'macro'}), \n",
    "                      'precision' : (precision_score, {'pos_label': 3, 'average':'macro'})\n",
    "                     })\n",
    "model_scores_dict = {'model_name' : [], \n",
    "                     'accuracy'   : [], \n",
    "                     'f1_score'   : [], \n",
    "                     'recall'     : [], \n",
    "                     'precision'  : [],\n",
    "                     'time'       : []\n",
    "                    }\n",
    "for model_name, model in models: \n",
    "    model_scores_dict['model_name'].append(model_name)\n",
    "    kfold = KFold(n_splits=2, random_state=24, shuffle=True)\n",
    "    start = time.time()\n",
    "    _ = cross_val_score(model, X_train, y_train, cv = kfold, scoring = scorer)\n",
    "    cv_result = scorer.get_results()\n",
    "    \n",
    "    # For each metric in cv_result.keys()\n",
    "    for metric_name in cv_result.keys():\n",
    "        average_score = np.average(cv_result[metric_name])\n",
    "        model_scores_dict[metric_name].append(average_score)\n",
    "        #print('%s : %f' %(metric_name, average_score))\n",
    "\n",
    "    model_scores_dict['time'].append((time.time() - start))\n",
    "        \n",
    "model_score_df = pd.DataFrame(model_scores_dict).set_index(\"model_name\")\n",
    "model_score_df.sort_values(by=[\"accuracy\", \"f1_score\", \"time\"], ascending=False)"
   ]
  },
  {
   "cell_type": "code",
   "execution_count": 57,
   "metadata": {},
   "outputs": [
    {
     "data": {
      "text/html": [
       "<style>#sk-container-id-1 {color: black;}#sk-container-id-1 pre{padding: 0;}#sk-container-id-1 div.sk-toggleable {background-color: white;}#sk-container-id-1 label.sk-toggleable__label {cursor: pointer;display: block;width: 100%;margin-bottom: 0;padding: 0.3em;box-sizing: border-box;text-align: center;}#sk-container-id-1 label.sk-toggleable__label-arrow:before {content: \"▸\";float: left;margin-right: 0.25em;color: #696969;}#sk-container-id-1 label.sk-toggleable__label-arrow:hover:before {color: black;}#sk-container-id-1 div.sk-estimator:hover label.sk-toggleable__label-arrow:before {color: black;}#sk-container-id-1 div.sk-toggleable__content {max-height: 0;max-width: 0;overflow: hidden;text-align: left;background-color: #f0f8ff;}#sk-container-id-1 div.sk-toggleable__content pre {margin: 0.2em;color: black;border-radius: 0.25em;background-color: #f0f8ff;}#sk-container-id-1 input.sk-toggleable__control:checked~div.sk-toggleable__content {max-height: 200px;max-width: 100%;overflow: auto;}#sk-container-id-1 input.sk-toggleable__control:checked~label.sk-toggleable__label-arrow:before {content: \"▾\";}#sk-container-id-1 div.sk-estimator input.sk-toggleable__control:checked~label.sk-toggleable__label {background-color: #d4ebff;}#sk-container-id-1 div.sk-label input.sk-toggleable__control:checked~label.sk-toggleable__label {background-color: #d4ebff;}#sk-container-id-1 input.sk-hidden--visually {border: 0;clip: rect(1px 1px 1px 1px);clip: rect(1px, 1px, 1px, 1px);height: 1px;margin: -1px;overflow: hidden;padding: 0;position: absolute;width: 1px;}#sk-container-id-1 div.sk-estimator {font-family: monospace;background-color: #f0f8ff;border: 1px dotted black;border-radius: 0.25em;box-sizing: border-box;margin-bottom: 0.5em;}#sk-container-id-1 div.sk-estimator:hover {background-color: #d4ebff;}#sk-container-id-1 div.sk-parallel-item::after {content: \"\";width: 100%;border-bottom: 1px solid gray;flex-grow: 1;}#sk-container-id-1 div.sk-label:hover label.sk-toggleable__label {background-color: #d4ebff;}#sk-container-id-1 div.sk-serial::before {content: \"\";position: absolute;border-left: 1px solid gray;box-sizing: border-box;top: 0;bottom: 0;left: 50%;z-index: 0;}#sk-container-id-1 div.sk-serial {display: flex;flex-direction: column;align-items: center;background-color: white;padding-right: 0.2em;padding-left: 0.2em;position: relative;}#sk-container-id-1 div.sk-item {position: relative;z-index: 1;}#sk-container-id-1 div.sk-parallel {display: flex;align-items: stretch;justify-content: center;background-color: white;position: relative;}#sk-container-id-1 div.sk-item::before, #sk-container-id-1 div.sk-parallel-item::before {content: \"\";position: absolute;border-left: 1px solid gray;box-sizing: border-box;top: 0;bottom: 0;left: 50%;z-index: -1;}#sk-container-id-1 div.sk-parallel-item {display: flex;flex-direction: column;z-index: 1;position: relative;background-color: white;}#sk-container-id-1 div.sk-parallel-item:first-child::after {align-self: flex-end;width: 50%;}#sk-container-id-1 div.sk-parallel-item:last-child::after {align-self: flex-start;width: 50%;}#sk-container-id-1 div.sk-parallel-item:only-child::after {width: 0;}#sk-container-id-1 div.sk-dashed-wrapped {border: 1px dashed gray;margin: 0 0.4em 0.5em 0.4em;box-sizing: border-box;padding-bottom: 0.4em;background-color: white;}#sk-container-id-1 div.sk-label label {font-family: monospace;font-weight: bold;display: inline-block;line-height: 1.2em;}#sk-container-id-1 div.sk-label-container {text-align: center;}#sk-container-id-1 div.sk-container {/* jupyter's `normalize.less` sets `[hidden] { display: none; }` but bootstrap.min.css set `[hidden] { display: none !important; }` so we also need the `!important` here to be able to override the default hidden behavior on the sphinx rendered scikit-learn.org. See: https://github.com/scikit-learn/scikit-learn/issues/21755 */display: inline-block !important;position: relative;}#sk-container-id-1 div.sk-text-repr-fallback {display: none;}</style><div id=\"sk-container-id-1\" class=\"sk-top-container\"><div class=\"sk-text-repr-fallback\"><pre>GridSearchCV(cv=2,\n",
       "             estimator=XGBClassifier(base_score=None, booster=None,\n",
       "                                     callbacks=None, colsample_bylevel=None,\n",
       "                                     colsample_bynode=None,\n",
       "                                     colsample_bytree=None, device=None,\n",
       "                                     early_stopping_rounds=None,\n",
       "                                     enable_categorical=False,\n",
       "                                     eval_metric=&#x27;mlogloss&#x27;, feature_types=None,\n",
       "                                     gamma=None, grow_policy=None,\n",
       "                                     importance_type=None,\n",
       "                                     interaction_constraints=None,\n",
       "                                     learning_rate...\n",
       "                                     max_cat_threshold=None,\n",
       "                                     max_cat_to_onehot=None,\n",
       "                                     max_delta_step=None, max_depth=None,\n",
       "                                     max_leaves=None, min_child_weight=None,\n",
       "                                     missing=nan, monotone_constraints=None,\n",
       "                                     multi_strategy=None, n_estimators=None,\n",
       "                                     n_jobs=None, num_parallel_tree=None,\n",
       "                                     random_state=None, ...),\n",
       "             n_jobs=-1,\n",
       "             param_grid={&#x27;max_depth&#x27;: range(3, 10, 2),\n",
       "                         &#x27;min_child_weight&#x27;: range(1, 5, 2)},\n",
       "             scoring=&#x27;accuracy&#x27;)</pre><b>In a Jupyter environment, please rerun this cell to show the HTML representation or trust the notebook. <br />On GitHub, the HTML representation is unable to render, please try loading this page with nbviewer.org.</b></div><div class=\"sk-container\" hidden><div class=\"sk-item sk-dashed-wrapped\"><div class=\"sk-label-container\"><div class=\"sk-label sk-toggleable\"><input class=\"sk-toggleable__control sk-hidden--visually\" id=\"sk-estimator-id-1\" type=\"checkbox\" ><label for=\"sk-estimator-id-1\" class=\"sk-toggleable__label sk-toggleable__label-arrow\">GridSearchCV</label><div class=\"sk-toggleable__content\"><pre>GridSearchCV(cv=2,\n",
       "             estimator=XGBClassifier(base_score=None, booster=None,\n",
       "                                     callbacks=None, colsample_bylevel=None,\n",
       "                                     colsample_bynode=None,\n",
       "                                     colsample_bytree=None, device=None,\n",
       "                                     early_stopping_rounds=None,\n",
       "                                     enable_categorical=False,\n",
       "                                     eval_metric=&#x27;mlogloss&#x27;, feature_types=None,\n",
       "                                     gamma=None, grow_policy=None,\n",
       "                                     importance_type=None,\n",
       "                                     interaction_constraints=None,\n",
       "                                     learning_rate...\n",
       "                                     max_cat_threshold=None,\n",
       "                                     max_cat_to_onehot=None,\n",
       "                                     max_delta_step=None, max_depth=None,\n",
       "                                     max_leaves=None, min_child_weight=None,\n",
       "                                     missing=nan, monotone_constraints=None,\n",
       "                                     multi_strategy=None, n_estimators=None,\n",
       "                                     n_jobs=None, num_parallel_tree=None,\n",
       "                                     random_state=None, ...),\n",
       "             n_jobs=-1,\n",
       "             param_grid={&#x27;max_depth&#x27;: range(3, 10, 2),\n",
       "                         &#x27;min_child_weight&#x27;: range(1, 5, 2)},\n",
       "             scoring=&#x27;accuracy&#x27;)</pre></div></div></div><div class=\"sk-parallel\"><div class=\"sk-parallel-item\"><div class=\"sk-item\"><div class=\"sk-label-container\"><div class=\"sk-label sk-toggleable\"><input class=\"sk-toggleable__control sk-hidden--visually\" id=\"sk-estimator-id-2\" type=\"checkbox\" ><label for=\"sk-estimator-id-2\" class=\"sk-toggleable__label sk-toggleable__label-arrow\">estimator: XGBClassifier</label><div class=\"sk-toggleable__content\"><pre>XGBClassifier(base_score=None, booster=None, callbacks=None,\n",
       "              colsample_bylevel=None, colsample_bynode=None,\n",
       "              colsample_bytree=None, device=None, early_stopping_rounds=None,\n",
       "              enable_categorical=False, eval_metric=&#x27;mlogloss&#x27;,\n",
       "              feature_types=None, gamma=None, grow_policy=None,\n",
       "              importance_type=None, interaction_constraints=None,\n",
       "              learning_rate=None, max_bin=None, max_cat_threshold=None,\n",
       "              max_cat_to_onehot=None, max_delta_step=None, max_depth=None,\n",
       "              max_leaves=None, min_child_weight=None, missing=nan,\n",
       "              monotone_constraints=None, multi_strategy=None, n_estimators=None,\n",
       "              n_jobs=None, num_parallel_tree=None, random_state=None, ...)</pre></div></div></div><div class=\"sk-serial\"><div class=\"sk-item\"><div class=\"sk-estimator sk-toggleable\"><input class=\"sk-toggleable__control sk-hidden--visually\" id=\"sk-estimator-id-3\" type=\"checkbox\" ><label for=\"sk-estimator-id-3\" class=\"sk-toggleable__label sk-toggleable__label-arrow\">XGBClassifier</label><div class=\"sk-toggleable__content\"><pre>XGBClassifier(base_score=None, booster=None, callbacks=None,\n",
       "              colsample_bylevel=None, colsample_bynode=None,\n",
       "              colsample_bytree=None, device=None, early_stopping_rounds=None,\n",
       "              enable_categorical=False, eval_metric=&#x27;mlogloss&#x27;,\n",
       "              feature_types=None, gamma=None, grow_policy=None,\n",
       "              importance_type=None, interaction_constraints=None,\n",
       "              learning_rate=None, max_bin=None, max_cat_threshold=None,\n",
       "              max_cat_to_onehot=None, max_delta_step=None, max_depth=None,\n",
       "              max_leaves=None, min_child_weight=None, missing=nan,\n",
       "              monotone_constraints=None, multi_strategy=None, n_estimators=None,\n",
       "              n_jobs=None, num_parallel_tree=None, random_state=None, ...)</pre></div></div></div></div></div></div></div></div></div></div>"
      ],
      "text/plain": [
       "GridSearchCV(cv=2,\n",
       "             estimator=XGBClassifier(base_score=None, booster=None,\n",
       "                                     callbacks=None, colsample_bylevel=None,\n",
       "                                     colsample_bynode=None,\n",
       "                                     colsample_bytree=None, device=None,\n",
       "                                     early_stopping_rounds=None,\n",
       "                                     enable_categorical=False,\n",
       "                                     eval_metric='mlogloss', feature_types=None,\n",
       "                                     gamma=None, grow_policy=None,\n",
       "                                     importance_type=None,\n",
       "                                     interaction_constraints=None,\n",
       "                                     learning_rate...\n",
       "                                     max_cat_threshold=None,\n",
       "                                     max_cat_to_onehot=None,\n",
       "                                     max_delta_step=None, max_depth=None,\n",
       "                                     max_leaves=None, min_child_weight=None,\n",
       "                                     missing=nan, monotone_constraints=None,\n",
       "                                     multi_strategy=None, n_estimators=None,\n",
       "                                     n_jobs=None, num_parallel_tree=None,\n",
       "                                     random_state=None, ...),\n",
       "             n_jobs=-1,\n",
       "             param_grid={'max_depth': range(3, 10, 2),\n",
       "                         'min_child_weight': range(1, 5, 2)},\n",
       "             scoring='accuracy')"
      ]
     },
     "execution_count": 57,
     "metadata": {},
     "output_type": "execute_result"
    }
   ],
   "source": [
    "parameter = {\n",
    "    'max_depth':range(3,10,2), \n",
    "    'min_child_weight':range(1,5,2)\n",
    "    }\n",
    "\n",
    "p_grid_search = GridSearchCV(estimator = xgb.XGBClassifier(eval_metric='mlogloss'), \n",
    "                             param_grid = parameter, \n",
    "                             scoring='accuracy', \n",
    "                             n_jobs=-1, \n",
    "                             #iid=False, \n",
    "                             cv=2\n",
    "                            )\n",
    "\n",
    "p_grid_search.fit(X_train, y_train)"
   ]
  },
  {
   "cell_type": "code",
   "execution_count": 58,
   "metadata": {},
   "outputs": [
    {
     "data": {
      "text/plain": [
       "({'max_depth': 3, 'min_child_weight': 3}, 0.9490327380952381)"
      ]
     },
     "execution_count": 58,
     "metadata": {},
     "output_type": "execute_result"
    }
   ],
   "source": [
    "p_grid_search.best_params_, p_grid_search.best_score_\n"
   ]
  },
  {
   "cell_type": "code",
   "execution_count": 59,
   "metadata": {},
   "outputs": [
    {
     "name": "stdout",
     "output_type": "stream",
     "text": [
      "Accuracy of XGB classifier on training set: 0.97\n",
      "Accuracy of XGB classifier on test set: 0.96\n"
     ]
    }
   ],
   "source": [
    "refined_xgb_model = xgb.XGBClassifier(eval_metric='logloss', \n",
    "                                      max_depth=list(p_grid_search.best_params_.values())[0]-1, \n",
    "                                      min_child_weight=list(p_grid_search.best_params_.values())[-1]+4\n",
    "                                     ).fit(X_train, y_train)\n",
    "\n",
    "print('Accuracy of XGB classifier on training set: {:.2f}'.format(refined_xgb_model.score(X_train, y_train)))\n",
    "print('Accuracy of XGB classifier on test set: {:.2f}'.format(refined_xgb_model.score(X_test[X_train.columns], y_test)))"
   ]
  },
  {
   "cell_type": "code",
   "execution_count": 60,
   "metadata": {},
   "outputs": [],
   "source": [
    "ref_xgb_pred_y = refined_xgb_model.predict(X_test)\n"
   ]
  },
  {
   "cell_type": "code",
   "execution_count": 61,
   "metadata": {},
   "outputs": [],
   "source": [
    "log_reg_pred_y = LogisticRegression().fit(X_train, y_train).predict(X_test)\n"
   ]
  },
  {
   "cell_type": "code",
   "execution_count": 62,
   "metadata": {},
   "outputs": [],
   "source": [
    "def get_confusion_matrix(y_test, y_pred):\n",
    "    \"\"\"\n",
    "    Displays the confusion matrix of the input numpy arrays y_test and y_pred.\n",
    "    \n",
    "    INPUT: \n",
    "        y_test - A numpy array \n",
    "        y_pred - A numpy array\n",
    "        \n",
    "    OUTPUT:\n",
    "        NoneType\n",
    "    \"\"\"\n",
    "    \n",
    "    data = {'y_Actual': y_test, 'y_Predicted': y_pred}\n",
    "\n",
    "    df = pd.DataFrame(data, columns=['y_Actual','y_Predicted'])\n",
    "    conf_matrix = pd.crosstab(df['y_Actual'], df['y_Predicted'], \n",
    "                              rownames=['Actual'], \n",
    "                              colnames=['Predicted'])\n",
    "    \n",
    "    sns.heatmap(conf_matrix, annot=True, fmt = \"d\", cmap=\"Spectral\")\n",
    "    plt.show()"
   ]
  },
  {
   "cell_type": "code",
   "execution_count": 63,
   "metadata": {},
   "outputs": [
    {
     "data": {
      "image/png": "[encoded data removed]",
      "text/plain": [
       "<Figure size 640x480 with 2 Axes>"
      ]
     },
     "metadata": {},
     "output_type": "display_data"
    }
   ],
   "source": [
    "get_confusion_matrix(np.array(y_test), ref_xgb_pred_y)\n"
   ]
  },
  {
   "cell_type": "code",
   "execution_count": 64,
   "metadata": {},
   "outputs": [
    {
     "data": {
      "image/png": "[encoded data removed]",
      "text/plain": [
       "<Figure size 640x480 with 2 Axes>"
      ]
     },
     "metadata": {},
     "output_type": "display_data"
    }
   ],
   "source": [
    "get_confusion_matrix(np.array(y_test), log_reg_pred_y)\n"
   ]
  },
  {
   "cell_type": "code",
   "execution_count": 65,
   "metadata": {},
   "outputs": [
    {
     "data": {
      "text/html": [
       "<div>\n",
       "<style scoped>\n",
       "    .dataframe tbody tr th:only-of-type {\n",
       "        vertical-align: middle;\n",
       "    }\n",
       "\n",
       "    .dataframe tbody tr th {\n",
       "        vertical-align: top;\n",
       "    }\n",
       "\n",
       "    .dataframe thead th {\n",
       "        text-align: right;\n",
       "    }\n",
       "</style>\n",
       "<table border=\"1\" class=\"dataframe\">\n",
       "  <thead>\n",
       "    <tr style=\"text-align: right;\">\n",
       "      <th></th>\n",
       "      <th>accuracy</th>\n",
       "      <th>f1_score</th>\n",
       "      <th>recall</th>\n",
       "      <th>precision</th>\n",
       "    </tr>\n",
       "    <tr>\n",
       "      <th>model_name</th>\n",
       "      <th></th>\n",
       "      <th></th>\n",
       "      <th></th>\n",
       "      <th></th>\n",
       "    </tr>\n",
       "  </thead>\n",
       "  <tbody>\n",
       "    <tr>\n",
       "      <th>xgb.XGBClassifier</th>\n",
       "      <td>0.958333</td>\n",
       "      <td>0.963061</td>\n",
       "      <td>0.98916</td>\n",
       "      <td>0.938303</td>\n",
       "    </tr>\n",
       "    <tr>\n",
       "      <th>LogisticRegression</th>\n",
       "      <td>0.544643</td>\n",
       "      <td>0.705202</td>\n",
       "      <td>0.99187</td>\n",
       "      <td>0.547085</td>\n",
       "    </tr>\n",
       "  </tbody>\n",
       "</table>\n",
       "</div>"
      ],
      "text/plain": [
       "                    accuracy  f1_score   recall  precision\n",
       "model_name                                                \n",
       "xgb.XGBClassifier   0.958333  0.963061  0.98916   0.938303\n",
       "LogisticRegression  0.544643  0.705202  0.99187   0.547085"
      ]
     },
     "execution_count": 65,
     "metadata": {},
     "output_type": "execute_result"
    }
   ],
   "source": [
    "\n",
    "ref_xgb_log_reg_dict = {\"model_name\" : [\"xgb.XGBClassifier\", \"LogisticRegression\"], \n",
    "                        \"accuracy\"   : [accuracy_score(y_test, ref_xgb_pred_y), accuracy_score(y_test, log_reg_pred_y)], \n",
    "                        \"f1_score\"   : [f1_score(y_test, ref_xgb_pred_y), f1_score(y_test, log_reg_pred_y)], \n",
    "                        \"recall\"     : [recall_score(y_test, ref_xgb_pred_y), recall_score(y_test, log_reg_pred_y)], \n",
    "                        \"precision\"  : [precision_score(y_test, ref_xgb_pred_y), precision_score(y_test, log_reg_pred_y)]\n",
    "                       }\n",
    "# Create a dataframe with ref_xgb_log_reg_dict\n",
    "ref_xgb_log_reg_df = pd.DataFrame(ref_xgb_log_reg_dict).set_index(\"model_name\")\n",
    "# Order the dataframe ref_xgb_log_reg_df by the metric values in increasing order\n",
    "ref_xgb_log_reg_df.sort_values(by=[\"accuracy\", \"f1_score\", \"recall\", \"precision\"], ascending=False)"
   ]
  },
  {
   "cell_type": "code",
   "execution_count": 66,
   "metadata": {},
   "outputs": [
    {
     "name": "stdout",
     "output_type": "stream",
     "text": [
      "CustomerID\n",
      "12346   2011-02-17 10:17:00\n",
      "12347   2011-11-30 12:25:00\n",
      "12348   2011-10-25 13:13:00\n",
      "12349   2011-12-21 09:51:00\n",
      "12350   2011-03-04 16:01:00\n",
      "                ...        \n",
      "18280   2011-08-02 09:52:00\n",
      "18281   2012-01-05 10:53:00\n",
      "18282   2011-10-08 15:10:00\n",
      "18283   2011-12-30 12:59:00\n",
      "18287   2012-01-09 10:23:00\n",
      "Name: InvoiceDate, Length: 4372, dtype: datetime64[ns]\n"
     ]
    }
   ],
   "source": [
    "import pandas as pd\n",
    "from datetime import timedelta\n",
    "from statsmodels.tsa.statespace.sarimax import SARIMAX\n",
    "from sklearn.model_selection import TimeSeriesSplit\n",
    "import itertools\n",
    "\n",
    "df= pd.read_csv(\"C:\\\\Users\\\\LAU\\\\Desktop\\\\new proj\\\\base_data_new_25_new.csv\")\n",
    "\n",
    "df['InvoiceDate'] = pd.to_datetime(df['InvoiceDate'], format='mixed', dayfirst=True)\n",
    "df = df.sort_values(by='InvoiceDate')\n",
    "\n",
    "customer_data = df.groupby('CustomerID')['InvoiceDate'].agg(lambda dates: dates.tolist())\n",
    "\n",
    "# Define a function to find the best ARIMA model order\n",
    "def find_best_model_order(purchase_dates):\n",
    "    p_values = range(0, 3)  # Define range for p\n",
    "    d_values = range(0, 2)  # Define range for d\n",
    "    q_values = range(0, 3)  # Define range for q\n",
    "    best_aic = float(\"inf\")\n",
    "    best_order = None\n",
    "    \n",
    "    for p, d, q in itertools.product(p_values, d_values, q_values):\n",
    "        order = (p, d, q)\n",
    "        try:\n",
    "            model = SARIMAX(purchase_dates, order=order)\n",
    "            model_fit = model.fit()\n",
    "            aic = model_fit.aic\n",
    "            if aic < best_aic:\n",
    "                best_aic = aic\n",
    "                best_order = order\n",
    "        except:\n",
    "            continue\n",
    "    \n",
    "    return best_order\n",
    "\n",
    "# Defined a function to train ARIMA model and predict next purchase date\n",
    "def predict_next_purchase(purchase_dates):\n",
    "    if len(purchase_dates) < 2:\n",
    "        return None \n",
    "    \n",
    "    try:\n",
    "        best_order = find_best_model_order(purchase_dates)\n",
    "        model = SARIMAX(purchase_dates, best_order, seasonal_order=(2, 1, 3, 12))\n",
    "        model_fit = model.fit()\n",
    "        \n",
    "        next_purchase_date = model_fit.forecast(steps=1)[0]\n",
    "        \n",
    "        return pd.Timestamp(next_purchase_date)\n",
    "    except:\n",
    "        # The next purchase is 30 days from the last purchase\n",
    "        return purchase_dates[-1] + timedelta(days=30)\n",
    "\n",
    "next_purchase_dates = customer_data.apply(predict_next_purchase)\n",
    "\n",
    "print(next_purchase_dates) \n",
    "\n"
   ]
  },
  {
   "cell_type": "code",
   "execution_count": 67,
   "metadata": {},
   "outputs": [
    {
     "data": {
      "image/png": "[encoded data removed]",
      "text/plain": [
       "<Figure size 1000x600 with 1 Axes>"
      ]
     },
     "metadata": {},
     "output_type": "display_data"
    }
   ],
   "source": [
    "import matplotlib.pyplot as plt\n",
    "import pandas as pd\n",
    "import numpy as np\n",
    "\n",
    "# Generate sample purchase data\n",
    "np.random.seed(0)\n",
    "dates = pd.date_range(start='2022-01-01', end='2022-12-31', freq='D')\n",
    "purchases = np.random.normal(loc=100, scale=20, size=len(dates))\n",
    "\n",
    "# Plot the purchase data\n",
    "plt.figure(figsize=(10, 6))\n",
    "plt.plot(dates, purchases, color='blue')\n",
    "plt.title('Sample Purchase Data Over Time', fontsize=16)\n",
    "plt.xlabel('Date', fontsize=14)\n",
    "plt.ylabel('Purchase Value', fontsize=14)\n",
    "plt.grid(True)\n",
    "plt.show()\n"
   ]
  },
  {
   "cell_type": "code",
   "execution_count": 68,
   "metadata": {},
   "outputs": [
    {
     "name": "stdout",
     "output_type": "stream",
     "text": [
      "ARIMA PREDICTION\n",
      "\n",
      "CustomerID\n",
      "12346   2011-02-17 10:17:00\n",
      "12347   2011-11-30 12:25:00\n",
      "12348   2011-10-25 13:13:00\n",
      "12349   2011-12-21 09:51:00\n",
      "12350   2011-03-04 16:01:00\n",
      "                ...        \n",
      "18280   2011-08-02 09:52:00\n",
      "18281   2012-01-05 10:53:00\n",
      "18282   2011-10-08 15:10:00\n",
      "18283   2011-12-30 12:59:00\n",
      "18287   2012-01-09 10:23:00\n",
      "Name: InvoiceDate, Length: 4372, dtype: datetime64[ns]\n",
      "\n",
      "SARIMAX PREDICTION\n",
      "\n",
      "CustomerID\n",
      "12346   2011-02-17 10:17:00\n",
      "12347   2011-11-30 12:25:00\n",
      "12348   2011-10-25 13:13:00\n",
      "12349   2011-12-21 09:51:00\n",
      "12350   2011-03-04 16:01:00\n",
      "                ...        \n",
      "18280   2011-08-02 09:52:00\n",
      "18281   2012-01-05 10:53:00\n",
      "18282   2011-10-08 15:10:00\n",
      "18283   2011-12-30 12:59:00\n",
      "18287   2012-01-09 10:23:00\n",
      "Name: InvoiceDate, Length: 4372, dtype: datetime64[ns]\n"
     ]
    }
   ],
   "source": [
    "import pandas as pd\n",
    "from datetime import timedelta\n",
    "from statsmodels.tsa.arima.model import ARIMA\n",
    "from statsmodels.tsa.statespace.sarimax import SARIMAX\n",
    "\n",
    "df= pd.read_csv(\"C:\\\\Users\\\\LAU\\\\Desktop\\\\new proj\\\\base_data_new_25_new.csv\")\n",
    "\n",
    "\n",
    "df['InvoiceDate'] = pd.to_datetime(df['InvoiceDate'], format='mixed', dayfirst=True)\n",
    "\n",
    "df = df.sort_values(by='InvoiceDate')\n",
    "\n",
    "customer_data = df.groupby('CustomerID')['InvoiceDate'].agg(lambda dates: dates.tolist())\n",
    "\n",
    "# Define a function to train ARIMA model and predict next purchase date\n",
    "def predict_next_purchase_arima(purchase_dates):\n",
    "    if len(purchase_dates) < 2:\n",
    "        return None  # Not enough data to make a prediction\n",
    "    \n",
    "    try:\n",
    "        model = ARIMA(purchase_dates, order=(1, 1, 1))\n",
    "        model_fit = model.fit()\n",
    "        \n",
    "        next_purchase_date = model_fit.forecast(steps=1)[0]\n",
    "        \n",
    "        return pd.Timestamp(next_purchase_date)\n",
    "    except:\n",
    "        return purchase_dates[-1] + timedelta(days=30)\n",
    "\n",
    "def predict_next_purchase_sarima(purchase_dates):\n",
    "    if len(purchase_dates) < 2:\n",
    "        return None  \n",
    "    \n",
    "    try:\n",
    "        model = SARIMAX(purchase_dates, order=(2, 1, 3), seasonal_order=(2, 1, 3, 12))\n",
    "        model_fit = model.fit()\n",
    "        \n",
    "        next_purchase_date = model_fit.forecast(steps=1)[0]\n",
    "        \n",
    "        return pd.Timestamp(next_purchase_date)\n",
    "    except:\n",
    "        return purchase_dates[-1] + timedelta(days=30)\n",
    "\n",
    "\n",
    "next_purchase_dates_arima = customer_data.apply(predict_next_purchase_arima)\n",
    "next_purchase_dates_sarima = customer_data.apply(predict_next_purchase_sarima)\n",
    "print(\"ARIMA PREDICTION\")\n",
    "print()\n",
    "print(next_purchase_dates_arima)\n",
    "print()\n",
    "print(\"SARIMAX PREDICTION\")\n",
    "print()\n",
    "print(next_purchase_dates_sarima)\n",
    "\n"
   ]
  },
  {
   "cell_type": "code",
   "execution_count": 69,
   "metadata": {},
   "outputs": [
    {
     "name": "stdout",
     "output_type": "stream",
     "text": [
      "CustomerID\n",
      "12346   2011-02-17 10:17:00\n",
      "12347   2011-11-30 12:25:00\n",
      "12348   2011-10-25 13:13:00\n",
      "12349   2011-12-21 09:51:00\n",
      "12350   2011-03-04 16:01:00\n",
      "                ...        \n",
      "18280   2011-08-02 09:52:00\n",
      "18281   2012-01-05 10:53:00\n",
      "18282   2011-10-08 15:10:00\n",
      "18283   2011-12-30 12:59:00\n",
      "18287   2012-01-09 10:23:00\n",
      "Name: InvoiceDate, Length: 4372, dtype: datetime64[ns]\n"
     ]
    }
   ],
   "source": [
    "import pandas as pd\n",
    "from datetime import timedelta\n",
    "from statsmodels.tsa.arima.model import ARIMA\n",
    "\n",
    "df['InvoiceDate'] = pd.to_datetime(df['InvoiceDate'], format='mixed', dayfirst=True)\n",
    "\n",
    "df = df.sort_values(by='InvoiceDate')\n",
    "\n",
    "# Group by customer and aggregate purchase dates\n",
    "customer_data = df.groupby('CustomerID')['InvoiceDate'].agg(lambda dates: dates.tolist())\n",
    "\n",
    "# Defined a function to train ARIMA model and predict next purchase date\n",
    "def predict_next_purchase(purchase_dates):\n",
    "    if len(purchase_dates) < 2:\n",
    "        return None \n",
    "    \n",
    "    try:\n",
    "        model = ARIMA(purchase_dates, order=(1, 1, 1))\n",
    "        model_fit = model.fit()\n",
    "        \n",
    "        next_purchase_date = model_fit.forecast(steps=1)[0]\n",
    "        \n",
    "        return pd.Timestamp(next_purchase_date)\n",
    "    except:\n",
    "        #The next purchase is 30 days from the last purchase\n",
    "        return purchase_dates[-1] + timedelta(days=30)\n",
    "\n",
    "# Apply the function to each customer's purchase dates to predict next purchase date\n",
    "next_purchase_dates = customer_data.apply(predict_next_purchase)\n",
    "\n",
    "print(next_purchase_dates)"
   ]
  }
 ],
 "metadata": {
  "kernelspec": {
   "display_name": "Python 3",
   "language": "python",
   "name": "python3"
  },
  "language_info": {
   "codemirror_mode": {
    "name": "ipython",
    "version": 3
   },
   "file_extension": ".py",
   "mimetype": "text/x-python",
   "name": "python",
   "nbconvert_exporter": "python",
   "pygments_lexer": "ipython3",
   "version": "3.11.5"
  }
 },
 "nbformat": 4,
 "nbformat_minor": 2
}
